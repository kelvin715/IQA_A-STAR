{
 "cells": [
  {
   "cell_type": "code",
   "execution_count": 2,
   "metadata": {},
   "outputs": [
    {
     "name": "stdout",
     "output_type": "stream",
     "text": [
      "NIQE :  50.90080390092622\n",
      "NIQE :  17.934526030690982\n",
      "NIQE :  14.049097530192224\n",
      "NIQE :  17.953996834713976\n",
      "NIQE :  15.189756008235378\n",
      "NIQE :  16.17248446356077\n",
      "NIQE :  14.583100890393473\n",
      "NIQE :  17.735063713820537\n",
      "NIQE :  13.772882170900283\n",
      "NIQE :  14.815293098738575\n",
      "NIQE :  17.10858888310527\n",
      "NIQE :  17.102329378391488\n",
      "NIQE :  17.740076013258495\n",
      "NIQE :  17.466006762409314\n",
      "NIQE :  13.172098219632804\n",
      "NIQE :  13.298040676820658\n",
      "NIQE :  16.30090146400737\n",
      "NIQE :  16.7845675403334\n"
     ]
    }
   ],
   "source": [
    "from niqe import niqe\n",
    "from PIL import Image\n",
    "import os\n",
    "import numpy as np\n",
    "\n",
    "paths = os.listdir('/Data4/student_zhihan_data/data')\n",
    "niqe_score = {}\n",
    "for i in paths:\n",
    "    path = os.path.join('/Data4/student_zhihan_data/data', i, 'valid', 'images')\n",
    "    \n",
    "    # 获取文件夹中的所有图像文件\n",
    "    image_files = [f for f in os.listdir(path) if f.endswith(('.png', '.jpg', '.jpeg'))]\n",
    "    niqe_values = []\n",
    "    NIQE_sum = 0\n",
    "    count = 0\n",
    "\n",
    "    for image_file in image_files:\n",
    "        # 读取图像\n",
    "        image_path = os.path.join(path, image_file)\n",
    "        image = np.array(Image.open(image_path).convert('LA'))[:, :, 0]\n",
    "\n",
    "        # 计算 NIQE\n",
    "        NIQE_sum = NIQE_sum + niqe(image)\n",
    "        count = count+1\n",
    "\n",
    "    NIQE_mean = NIQE_sum/count\n",
    "    print('NIQE : ', NIQE_mean)\n",
    "    niqe_score[i] = NIQE_mean"
   ]
  },
  {
   "cell_type": "code",
   "execution_count": 3,
   "metadata": {},
   "outputs": [
    {
     "data": {
      "text/plain": [
       "{'NEU-DET': 50.90080390092622,\n",
       " 'GC10-DET': 17.934526030690982,\n",
       " 'GC10-DET_brightness_70': 14.049097530192224,\n",
       " 'GC10-DET_brightness_-10': 17.953996834713976,\n",
       " 'GC10-DET_brightness_50': 15.189756008235378,\n",
       " 'GC10-DET_brightness_-50': 16.17248446356077,\n",
       " 'GC10-DET_brightness_60': 14.583100890393473,\n",
       " 'GC10-DET_brightness_-15': 17.735063713820537,\n",
       " 'GC10-DET_brightness_-150': 13.772882170900283,\n",
       " 'GC10-DET_brightness_-100': 14.815293098738575,\n",
       " 'GC10-DET_brightness_-25': 17.10858888310527,\n",
       " 'GC10-DET_brightness_20': 17.102329378391488,\n",
       " 'GC10-DET_brightness_10': 17.740076013258495,\n",
       " 'GC10-DET_brightness_-20': 17.466006762409314,\n",
       " 'GC10-DET_brightness_90': 13.172098219632804,\n",
       " 'GC10-DET_brightness_110': 13.298040676820658,\n",
       " 'GC10-DET_brightness_30': 16.30090146400737,\n",
       " 'GC10-DET_brightness_-30': 16.7845675403334}"
      ]
     },
     "execution_count": 3,
     "metadata": {},
     "output_type": "execute_result"
    }
   ],
   "source": [
    "niqe_score"
   ]
  },
  {
   "cell_type": "code",
   "execution_count": null,
   "metadata": {},
   "outputs": [],
   "source": []
  }
 ],
 "metadata": {
  "kernelspec": {
   "display_name": "yolov8",
   "language": "python",
   "name": "python3"
  },
  "language_info": {
   "codemirror_mode": {
    "name": "ipython",
    "version": 3
   },
   "file_extension": ".py",
   "mimetype": "text/x-python",
   "name": "python",
   "nbconvert_exporter": "python",
   "pygments_lexer": "ipython3",
   "version": "3.9.18"
  }
 },
 "nbformat": 4,
 "nbformat_minor": 2
}
