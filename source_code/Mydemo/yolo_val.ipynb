{
 "cells": [
  {
   "cell_type": "code",
   "execution_count": 2,
   "metadata": {},
   "outputs": [],
   "source": [
    "from ultralytics import YOLO\n",
    "import os\n",
    "import yaml\n",
    "import sys"
   ]
  },
  {
   "cell_type": "code",
   "execution_count": 3,
   "metadata": {},
   "outputs": [
    {
     "name": "stdout",
     "output_type": "stream",
     "text": [
      "Ultralytics YOLOv8.1.2 🚀 Python-3.9.18 torch-2.1.2+cu121 CUDA:0 (NVIDIA TITAN Xp, 12187MiB)\n",
      "YOLOv8-dropblock summary: 236 layers, 3008942 parameters, 0 gradients, 8.1 GFLOPs\n"
     ]
    },
    {
     "name": "stderr",
     "output_type": "stream",
     "text": [
      "\u001b[34m\u001b[1mval: \u001b[0mScanning /Data4/student_zhihan_data/data/GC10-DET_GaussianBlur_3/test/labels.cache... 230 images, 0 backgrounds, 0 corrupt: 100%|██████████| 230/230 [00:00<?, ?it/s]\n",
      "                 Class     Images  Instances      Box(P          R      mAP50  mAP50-95): 100%|██████████| 15/15 [00:02<00:00,  5.84it/s]\n"
     ]
    },
    {
     "name": "stdout",
     "output_type": "stream",
     "text": [
      "                   all        230        349      0.544      0.489      0.515      0.243\n",
      "                crease        230         10          0          0     0.0267    0.00972\n",
      "          crescent_gap        230         29      0.743      0.897      0.856      0.514\n",
      "             inclusion        230         40      0.474       0.05      0.133      0.041\n",
      "              oil_spot        230         43      0.586      0.493      0.483      0.185\n",
      "         punching_hole        230         26      0.835      0.962      0.974      0.526\n",
      "            rolled_pit        230         10      0.278     0.0834      0.117     0.0406\n",
      "             silk_spot        230         84      0.675      0.347      0.436      0.195\n",
      "         waist_folding        230         15      0.471      0.467      0.581      0.227\n",
      "            water_spot        230         42      0.719       0.67      0.746      0.428\n",
      "          welding_line        230         50      0.657       0.92        0.8      0.261\n",
      "Speed: 1.1ms preprocess, 4.7ms inference, 0.0ms loss, 1.6ms postprocess per image\n",
      "Results saved to \u001b[1m/Data4/student_zhihan_data/source_code/yolo/ultralytics/runs/detect/val175\u001b[0m\n",
      "💡 Learn more at https://docs.ultralytics.com/modes/val\n",
      "Ultralytics YOLOv8.1.2 🚀 Python-3.9.18 torch-2.1.2+cu121 CUDA:0 (NVIDIA TITAN Xp, 12187MiB)\n",
      "YOLOv8-dropblock summary: 236 layers, 3008942 parameters, 0 gradients, 8.1 GFLOPs\n"
     ]
    },
    {
     "name": "stderr",
     "output_type": "stream",
     "text": [
      "\u001b[34m\u001b[1mval: \u001b[0mScanning /Data4/student_zhihan_data/data/GC10-DET_GaussianBlur_5/test/labels... 230 images, 0 backgrounds, 0 corrupt: 100%|██████████| 230/230 [00:00<00:00, 295.62it/s]\n"
     ]
    },
    {
     "name": "stdout",
     "output_type": "stream",
     "text": [
      "\u001b[34m\u001b[1mval: \u001b[0mNew cache created: /Data4/student_zhihan_data/data/GC10-DET_GaussianBlur_5/test/labels.cache\n"
     ]
    },
    {
     "name": "stderr",
     "output_type": "stream",
     "text": [
      "                 Class     Images  Instances      Box(P          R      mAP50  mAP50-95): 100%|██████████| 15/15 [00:03<00:00,  4.88it/s]\n"
     ]
    },
    {
     "name": "stdout",
     "output_type": "stream",
     "text": [
      "                   all        230        349       0.56       0.51      0.507      0.234\n",
      "                crease        230         10          0          0     0.0529     0.0241\n",
      "          crescent_gap        230         29      0.697      0.931      0.797      0.481\n",
      "             inclusion        230         40      0.222       0.05     0.0879     0.0315\n",
      "              oil_spot        230         43      0.451      0.488      0.513      0.192\n",
      "         punching_hole        230         26       0.84      0.923      0.976      0.527\n",
      "            rolled_pit        230         10          1          0      0.044    0.00932\n",
      "             silk_spot        230         84      0.578      0.381      0.417      0.163\n",
      "         waist_folding        230         15      0.559        0.8      0.693      0.275\n",
      "            water_spot        230         42      0.652      0.619      0.695      0.373\n",
      "          welding_line        230         50      0.601      0.906      0.792      0.262\n",
      "Speed: 1.2ms preprocess, 3.3ms inference, 0.0ms loss, 1.3ms postprocess per image\n",
      "Results saved to \u001b[1m/Data4/student_zhihan_data/source_code/yolo/ultralytics/runs/detect/val176\u001b[0m\n",
      "💡 Learn more at https://docs.ultralytics.com/modes/val\n",
      "Ultralytics YOLOv8.1.2 🚀 Python-3.9.18 torch-2.1.2+cu121 CUDA:0 (NVIDIA TITAN Xp, 12187MiB)\n",
      "YOLOv8-dropblock summary: 236 layers, 3008942 parameters, 0 gradients, 8.1 GFLOPs\n"
     ]
    },
    {
     "name": "stderr",
     "output_type": "stream",
     "text": [
      "\u001b[34m\u001b[1mval: \u001b[0mScanning /Data4/student_zhihan_data/data/GC10-DET_GaussianBlur_7/test/labels... 230 images, 0 backgrounds, 0 corrupt: 100%|██████████| 230/230 [00:00<00:00, 257.75it/s]\n"
     ]
    },
    {
     "name": "stdout",
     "output_type": "stream",
     "text": [
      "\u001b[34m\u001b[1mval: \u001b[0mNew cache created: /Data4/student_zhihan_data/data/GC10-DET_GaussianBlur_7/test/labels.cache\n"
     ]
    },
    {
     "name": "stderr",
     "output_type": "stream",
     "text": [
      "                 Class     Images  Instances      Box(P          R      mAP50  mAP50-95): 100%|██████████| 15/15 [00:03<00:00,  4.73it/s]\n"
     ]
    },
    {
     "name": "stdout",
     "output_type": "stream",
     "text": [
      "                   all        230        349      0.611       0.51      0.501      0.233\n",
      "                crease        230         10          1          0      0.071     0.0298\n",
      "          crescent_gap        230         29      0.703      0.897      0.868      0.502\n",
      "             inclusion        230         40      0.273     0.0137      0.122     0.0384\n",
      "              oil_spot        230         43      0.406      0.558      0.435      0.192\n",
      "         punching_hole        230         26      0.832          1      0.985      0.532\n",
      "            rolled_pit        230         10       0.46        0.1      0.103     0.0308\n",
      "             silk_spot        230         84        0.6      0.238      0.364      0.123\n",
      "         waist_folding        230         15      0.605      0.733      0.682      0.243\n",
      "            water_spot        230         42       0.67      0.643      0.679      0.386\n",
      "          welding_line        230         50      0.559       0.92      0.697       0.25\n",
      "Speed: 2.0ms preprocess, 3.9ms inference, 0.0ms loss, 1.5ms postprocess per image\n",
      "Results saved to \u001b[1m/Data4/student_zhihan_data/source_code/yolo/ultralytics/runs/detect/val177\u001b[0m\n",
      "💡 Learn more at https://docs.ultralytics.com/modes/val\n",
      "Ultralytics YOLOv8.1.2 🚀 Python-3.9.18 torch-2.1.2+cu121 CUDA:0 (NVIDIA TITAN Xp, 12187MiB)\n",
      "YOLOv8-dropblock summary: 236 layers, 3008942 parameters, 0 gradients, 8.1 GFLOPs\n"
     ]
    },
    {
     "name": "stderr",
     "output_type": "stream",
     "text": [
      "\u001b[34m\u001b[1mval: \u001b[0mScanning /Data4/student_zhihan_data/data/GC10-DET_GaussianBlur_9/test/labels... 230 images, 0 backgrounds, 0 corrupt: 100%|██████████| 230/230 [00:00<00:00, 280.96it/s]\n"
     ]
    },
    {
     "name": "stdout",
     "output_type": "stream",
     "text": [
      "\u001b[34m\u001b[1mval: \u001b[0mNew cache created: /Data4/student_zhihan_data/data/GC10-DET_GaussianBlur_9/test/labels.cache\n"
     ]
    },
    {
     "name": "stderr",
     "output_type": "stream",
     "text": [
      "                 Class     Images  Instances      Box(P          R      mAP50  mAP50-95): 100%|██████████| 15/15 [00:03<00:00,  4.47it/s]\n"
     ]
    },
    {
     "name": "stdout",
     "output_type": "stream",
     "text": [
      "                   all        230        349       0.68       0.44      0.463      0.216\n",
      "                crease        230         10          1          0     0.0479     0.0172\n",
      "          crescent_gap        230         29      0.682      0.888      0.799      0.446\n",
      "             inclusion        230         40          0          0     0.0405     0.0149\n",
      "              oil_spot        230         43      0.558      0.512      0.548      0.237\n",
      "         punching_hole        230         26      0.801      0.928      0.884      0.491\n",
      "            rolled_pit        230         10          1          0      0.038     0.0112\n",
      "             silk_spot        230         84      0.562      0.122      0.259     0.0978\n",
      "         waist_folding        230         15      0.777      0.533      0.677      0.222\n",
      "            water_spot        230         42      0.803      0.595      0.664      0.373\n",
      "          welding_line        230         50      0.619       0.82      0.673      0.249\n",
      "Speed: 1.0ms preprocess, 3.6ms inference, 0.0ms loss, 4.2ms postprocess per image\n",
      "Results saved to \u001b[1m/Data4/student_zhihan_data/source_code/yolo/ultralytics/runs/detect/val178\u001b[0m\n",
      "💡 Learn more at https://docs.ultralytics.com/modes/val\n",
      "Ultralytics YOLOv8.1.2 🚀 Python-3.9.18 torch-2.1.2+cu121 CUDA:0 (NVIDIA TITAN Xp, 12187MiB)\n",
      "YOLOv8-dropblock summary: 236 layers, 3008942 parameters, 0 gradients, 8.1 GFLOPs\n"
     ]
    },
    {
     "name": "stderr",
     "output_type": "stream",
     "text": [
      "\u001b[34m\u001b[1mval: \u001b[0mScanning /Data4/student_zhihan_data/data/GC10-DET_GaussianBlur_11/test/labels... 230 images, 0 backgrounds, 0 corrupt: 100%|██████████| 230/230 [00:00<00:00, 304.30it/s]\n"
     ]
    },
    {
     "name": "stdout",
     "output_type": "stream",
     "text": [
      "\u001b[34m\u001b[1mval: \u001b[0mNew cache created: /Data4/student_zhihan_data/data/GC10-DET_GaussianBlur_11/test/labels.cache\n"
     ]
    },
    {
     "name": "stderr",
     "output_type": "stream",
     "text": [
      "                 Class     Images  Instances      Box(P          R      mAP50  mAP50-95): 100%|██████████| 15/15 [00:03<00:00,  4.04it/s]\n"
     ]
    },
    {
     "name": "stdout",
     "output_type": "stream",
     "text": [
      "                   all        230        349      0.567      0.409      0.448      0.208\n",
      "                crease        230         10          0          0     0.0242    0.00971\n",
      "          crescent_gap        230         29      0.722      0.898      0.799      0.466\n",
      "             inclusion        230         40          0          0     0.0525       0.02\n",
      "              oil_spot        230         43      0.574      0.465      0.555      0.208\n",
      "         punching_hole        230         26      0.844       0.83      0.903      0.458\n",
      "            rolled_pit        230         10          1          0      0.134     0.0296\n",
      "             silk_spot        230         84      0.296     0.0238      0.168     0.0572\n",
      "         waist_folding        230         15      0.729      0.467      0.579       0.23\n",
      "            water_spot        230         42      0.871      0.643      0.688      0.383\n",
      "          welding_line        230         50       0.63       0.76      0.579      0.216\n",
      "Speed: 0.8ms preprocess, 4.8ms inference, 0.0ms loss, 3.2ms postprocess per image\n",
      "Results saved to \u001b[1m/Data4/student_zhihan_data/source_code/yolo/ultralytics/runs/detect/val179\u001b[0m\n",
      "💡 Learn more at https://docs.ultralytics.com/modes/val\n",
      "Ultralytics YOLOv8.1.2 🚀 Python-3.9.18 torch-2.1.2+cu121 CUDA:0 (NVIDIA TITAN Xp, 12187MiB)\n",
      "YOLOv8-dropblock summary: 236 layers, 3008942 parameters, 0 gradients, 8.1 GFLOPs\n"
     ]
    },
    {
     "name": "stderr",
     "output_type": "stream",
     "text": [
      "\u001b[34m\u001b[1mval: \u001b[0mScanning /Data4/student_zhihan_data/data/GC10-DET_GaussianBlur_13/test/labels... 230 images, 0 backgrounds, 0 corrupt: 100%|██████████| 230/230 [00:00<00:00, 398.03it/s]\n"
     ]
    },
    {
     "name": "stdout",
     "output_type": "stream",
     "text": [
      "\u001b[34m\u001b[1mval: \u001b[0mNew cache created: /Data4/student_zhihan_data/data/GC10-DET_GaussianBlur_13/test/labels.cache\n"
     ]
    },
    {
     "name": "stderr",
     "output_type": "stream",
     "text": [
      "                 Class     Images  Instances      Box(P          R      mAP50  mAP50-95): 100%|██████████| 15/15 [00:02<00:00,  7.01it/s]\n"
     ]
    },
    {
     "name": "stdout",
     "output_type": "stream",
     "text": [
      "                   all        230        349      0.757      0.424      0.446      0.193\n",
      "                crease        230         10          1          0     0.0669     0.0189\n",
      "          crescent_gap        230         29       0.75      0.931       0.87      0.482\n",
      "             inclusion        230         40          1          0     0.0319     0.0115\n",
      "              oil_spot        230         43      0.455      0.395       0.41      0.164\n",
      "         punching_hole        230         26      0.717      0.846      0.877      0.404\n",
      "            rolled_pit        230         10          1          0       0.02    0.00249\n",
      "             silk_spot        230         84       0.67      0.119      0.173       0.06\n",
      "         waist_folding        230         15      0.751        0.6      0.748      0.239\n",
      "            water_spot        230         42        0.7      0.524      0.567      0.323\n",
      "          welding_line        230         50      0.525       0.82      0.693      0.227\n",
      "Speed: 0.8ms preprocess, 3.1ms inference, 0.0ms loss, 1.0ms postprocess per image\n",
      "Results saved to \u001b[1m/Data4/student_zhihan_data/source_code/yolo/ultralytics/runs/detect/val180\u001b[0m\n",
      "💡 Learn more at https://docs.ultralytics.com/modes/val\n",
      "Ultralytics YOLOv8.1.2 🚀 Python-3.9.18 torch-2.1.2+cu121 CUDA:0 (NVIDIA TITAN Xp, 12187MiB)\n",
      "YOLOv8-dropblock summary: 236 layers, 3008942 parameters, 0 gradients, 8.1 GFLOPs\n"
     ]
    },
    {
     "name": "stderr",
     "output_type": "stream",
     "text": [
      "\u001b[34m\u001b[1mval: \u001b[0mScanning /Data4/student_zhihan_data/data/GC10-DET_GaussianBlur_15/test/labels... 230 images, 0 backgrounds, 0 corrupt: 100%|██████████| 230/230 [00:00<00:00, 388.56it/s]\n"
     ]
    },
    {
     "name": "stdout",
     "output_type": "stream",
     "text": [
      "\u001b[34m\u001b[1mval: \u001b[0mNew cache created: /Data4/student_zhihan_data/data/GC10-DET_GaussianBlur_15/test/labels.cache\n"
     ]
    },
    {
     "name": "stderr",
     "output_type": "stream",
     "text": [
      "                 Class     Images  Instances      Box(P          R      mAP50  mAP50-95): 100%|██████████| 15/15 [00:02<00:00,  5.67it/s]\n"
     ]
    },
    {
     "name": "stdout",
     "output_type": "stream",
     "text": [
      "                   all        230        349      0.609      0.418      0.422        0.2\n",
      "                crease        230         10          0          0     0.0499     0.0241\n",
      "          crescent_gap        230         29      0.649      0.895      0.808      0.463\n",
      "             inclusion        230         40          1          0     0.0294    0.00946\n",
      "              oil_spot        230         43      0.355      0.512      0.435      0.183\n",
      "         punching_hole        230         26      0.793      0.923       0.95      0.525\n",
      "            rolled_pit        230         10          1          0      0.019     0.0042\n",
      "             silk_spot        230         84      0.548     0.0714      0.138     0.0421\n",
      "         waist_folding        230         15      0.653      0.504      0.594      0.234\n",
      "            water_spot        230         42      0.633        0.5      0.562      0.292\n",
      "          welding_line        230         50      0.464       0.78      0.637       0.22\n",
      "Speed: 0.9ms preprocess, 3.1ms inference, 0.0ms loss, 1.3ms postprocess per image\n",
      "Results saved to \u001b[1m/Data4/student_zhihan_data/source_code/yolo/ultralytics/runs/detect/val181\u001b[0m\n",
      "💡 Learn more at https://docs.ultralytics.com/modes/val\n",
      "Ultralytics YOLOv8.1.2 🚀 Python-3.9.18 torch-2.1.2+cu121 CUDA:0 (NVIDIA TITAN Xp, 12187MiB)\n",
      "YOLOv8-dropblock summary: 236 layers, 3008942 parameters, 0 gradients, 8.1 GFLOPs\n"
     ]
    },
    {
     "name": "stderr",
     "output_type": "stream",
     "text": [
      "\u001b[34m\u001b[1mval: \u001b[0mScanning /Data4/student_zhihan_data/data/GC10-DET_GaussianBlur_17/test/labels... 230 images, 0 backgrounds, 0 corrupt: 100%|██████████| 230/230 [00:00<00:00, 504.67it/s]\n"
     ]
    },
    {
     "name": "stdout",
     "output_type": "stream",
     "text": [
      "\u001b[34m\u001b[1mval: \u001b[0mNew cache created: /Data4/student_zhihan_data/data/GC10-DET_GaussianBlur_17/test/labels.cache\n"
     ]
    },
    {
     "name": "stderr",
     "output_type": "stream",
     "text": [
      "                 Class     Images  Instances      Box(P          R      mAP50  mAP50-95): 100%|██████████| 15/15 [00:02<00:00,  7.23it/s]\n"
     ]
    },
    {
     "name": "stdout",
     "output_type": "stream",
     "text": [
      "                   all        230        349      0.746      0.319      0.356      0.169\n",
      "                crease        230         10          1          0     0.0215    0.00657\n",
      "          crescent_gap        230         29      0.745      0.828      0.805      0.459\n",
      "             inclusion        230         40          1          0     0.0136    0.00562\n",
      "              oil_spot        230         43      0.473      0.372      0.367      0.167\n",
      "         punching_hole        230         26      0.724      0.731      0.647      0.319\n",
      "            rolled_pit        230         10          1          0     0.0426    0.00567\n",
      "             silk_spot        230         84      0.373    0.00887      0.113     0.0441\n",
      "         waist_folding        230         15      0.547      0.133      0.325      0.147\n",
      "            water_spot        230         42      0.944      0.381      0.564      0.318\n",
      "          welding_line        230         50      0.651       0.74      0.664      0.216\n",
      "Speed: 0.7ms preprocess, 3.1ms inference, 0.0ms loss, 1.0ms postprocess per image\n",
      "Results saved to \u001b[1m/Data4/student_zhihan_data/source_code/yolo/ultralytics/runs/detect/val182\u001b[0m\n",
      "💡 Learn more at https://docs.ultralytics.com/modes/val\n"
     ]
    }
   ],
   "source": [
    "for i in [3, 5, 7, 9, 11, 13, 15, 17]:\n",
    "    command = f'yolo task=detect mode=val model=\"/Data4/student_zhihan_data/source_code/yolo/ultralytics/runs/detect/GC10-DET_brightness_0_detect_by_yolov8n_with_dropblock(p=0.05 s=5)2/weights/best.pt\" data=\"/Data4/student_zhihan_data/data/GC10-DET_GaussianBlur_{i}/data.yaml\" device=0 split=\"test\"'\n",
    "    os.system(command)"
   ]
  },
  {
   "cell_type": "code",
   "execution_count": 2,
   "metadata": {},
   "outputs": [
    {
     "name": "stdout",
     "output_type": "stream",
     "text": [
      "Ultralytics YOLOv8.1.2 🚀 Python-3.9.18 torch-2.1.2+cu121 CUDA:0 (NVIDIA TITAN Xp, 12187MiB)\n",
      "YOLOv8-dropblock summary: 236 layers, 3008942 parameters, 0 gradients, 8.1 GFLOPs\n"
     ]
    },
    {
     "name": "stderr",
     "output_type": "stream",
     "text": [
      "\u001b[34m\u001b[1mval: \u001b[0mScanning /Data4/student_zhihan_data/data/GC10-DET_BilateralBlur_60/test/labels.cache... 230 images, 0 backgrounds, 0 corrupt: 100%|██████████| 230/230 [00:00<?, ?it/s]\n",
      "                 Class     Images  Instances      Box(P          R      mAP50  mAP50-95): 100%|██████████| 15/15 [00:02<00:00,  5.50it/s]\n"
     ]
    },
    {
     "name": "stdout",
     "output_type": "stream",
     "text": [
      "                   all        230        349       0.55      0.552      0.549       0.25\n",
      "                crease        230         10      0.352      0.111      0.128     0.0689\n",
      "          crescent_gap        230         29      0.621      0.897      0.839      0.504\n",
      "             inclusion        230         40      0.296     0.0737      0.117     0.0389\n",
      "              oil_spot        230         43      0.581      0.581      0.603      0.243\n",
      "         punching_hole        230         26      0.717          1       0.99       0.51\n",
      "            rolled_pit        230         10      0.358      0.115      0.171      0.047\n",
      "             silk_spot        230         84      0.601       0.44      0.495      0.192\n",
      "         waist_folding        230         15      0.703      0.667      0.621      0.252\n",
      "            water_spot        230         42      0.633      0.714      0.734      0.386\n",
      "          welding_line        230         50      0.635       0.92      0.796       0.26\n",
      "Speed: 1.3ms preprocess, 3.5ms inference, 0.0ms loss, 1.0ms postprocess per image\n",
      "Results saved to \u001b[1m/Data4/student_zhihan_data/source_code/yolo/ultralytics/runs/detect/val141\u001b[0m\n",
      "💡 Learn more at https://docs.ultralytics.com/modes/val\n",
      "Ultralytics YOLOv8.1.2 🚀 Python-3.9.18 torch-2.1.2+cu121 CUDA:0 (NVIDIA TITAN Xp, 12187MiB)\n",
      "YOLOv8-dropblock summary: 236 layers, 3008942 parameters, 0 gradients, 8.1 GFLOPs\n"
     ]
    },
    {
     "name": "stderr",
     "output_type": "stream",
     "text": [
      "\u001b[34m\u001b[1mval: \u001b[0mScanning /Data4/student_zhihan_data/data/GC10-DET_BilateralBlur_120/test/labels.cache... 230 images, 0 backgrounds, 0 corrupt: 100%|██████████| 230/230 [00:00<?, ?it/s]\n",
      "                 Class     Images  Instances      Box(P          R      mAP50  mAP50-95): 100%|██████████| 15/15 [00:02<00:00,  5.14it/s]\n"
     ]
    },
    {
     "name": "stdout",
     "output_type": "stream",
     "text": [
      "                   all        230        349      0.477      0.414      0.429      0.201\n",
      "                crease        230         10          0          0      0.107     0.0329\n",
      "          crescent_gap        230         29      0.643      0.897      0.771      0.471\n",
      "             inclusion        230         40          0          0     0.0249    0.00811\n",
      "              oil_spot        230         43      0.377      0.256      0.267      0.119\n",
      "         punching_hole        230         26      0.881      0.808      0.908      0.497\n",
      "            rolled_pit        230         10      0.387        0.1     0.0939     0.0233\n",
      "             silk_spot        230         84      0.512      0.262      0.256     0.0724\n",
      "         waist_folding        230         15       0.58      0.277      0.402      0.158\n",
      "            water_spot        230         42      0.823      0.619      0.674      0.368\n",
      "          welding_line        230         50      0.566       0.92      0.784      0.265\n",
      "Speed: 1.0ms preprocess, 3.3ms inference, 0.0ms loss, 1.6ms postprocess per image\n",
      "Results saved to \u001b[1m/Data4/student_zhihan_data/source_code/yolo/ultralytics/runs/detect/val142\u001b[0m\n",
      "💡 Learn more at https://docs.ultralytics.com/modes/val\n",
      "Ultralytics YOLOv8.1.2 🚀 Python-3.9.18 torch-2.1.2+cu121 CUDA:0 (NVIDIA TITAN Xp, 12187MiB)\n",
      "YOLOv8-dropblock summary: 236 layers, 3008942 parameters, 0 gradients, 8.1 GFLOPs\n"
     ]
    },
    {
     "name": "stderr",
     "output_type": "stream",
     "text": [
      "\u001b[34m\u001b[1mval: \u001b[0mScanning /Data4/student_zhihan_data/data/GC10-DET_BilateralBlur_180/test/labels.cache... 230 images, 0 backgrounds, 0 corrupt: 100%|██████████| 230/230 [00:00<?, ?it/s]\n",
      "                 Class     Images  Instances      Box(P          R      mAP50  mAP50-95): 100%|██████████| 15/15 [00:02<00:00,  5.48it/s]\n"
     ]
    },
    {
     "name": "stdout",
     "output_type": "stream",
     "text": [
      "                   all        230        349      0.376      0.294      0.276      0.129\n",
      "                crease        230         10       0.63        0.1      0.121     0.0275\n",
      "          crescent_gap        230         29      0.531      0.897      0.842      0.492\n",
      "             inclusion        230         40      0.127      0.025     0.0271    0.00703\n",
      "              oil_spot        230         43      0.223      0.209      0.109     0.0478\n",
      "         punching_hole        230         26        0.7      0.308      0.528      0.277\n",
      "            rolled_pit        230         10          0          0     0.0379     0.0101\n",
      "             silk_spot        230         84      0.294      0.155      0.119      0.057\n",
      "         waist_folding        230         15      0.156      0.133     0.0747     0.0239\n",
      "            water_spot        230         42      0.682      0.333      0.343      0.154\n",
      "          welding_line        230         50      0.417       0.78      0.558      0.196\n",
      "Speed: 1.1ms preprocess, 3.6ms inference, 0.0ms loss, 1.4ms postprocess per image\n",
      "Results saved to \u001b[1m/Data4/student_zhihan_data/source_code/yolo/ultralytics/runs/detect/val143\u001b[0m\n",
      "💡 Learn more at https://docs.ultralytics.com/modes/val\n",
      "Ultralytics YOLOv8.1.2 🚀 Python-3.9.18 torch-2.1.2+cu121 CUDA:0 (NVIDIA TITAN Xp, 12187MiB)\n",
      "YOLOv8-dropblock summary: 236 layers, 3008942 parameters, 0 gradients, 8.1 GFLOPs\n"
     ]
    },
    {
     "name": "stderr",
     "output_type": "stream",
     "text": [
      "\u001b[34m\u001b[1mval: \u001b[0mScanning /Data4/student_zhihan_data/data/GC10-DET_BilateralBlur_240/test/labels.cache... 230 images, 0 backgrounds, 0 corrupt: 100%|██████████| 230/230 [00:00<?, ?it/s]\n",
      "                 Class     Images  Instances      Box(P          R      mAP50  mAP50-95): 100%|██████████| 15/15 [00:03<00:00,  4.22it/s]\n"
     ]
    },
    {
     "name": "stdout",
     "output_type": "stream",
     "text": [
      "                   all        230        349      0.653      0.155      0.174     0.0798\n",
      "                crease        230         10          1          0     0.0211    0.00719\n",
      "          crescent_gap        230         29      0.639      0.793       0.69      0.422\n",
      "             inclusion        230         40          1          0     0.0188    0.00442\n",
      "              oil_spot        230         43          0          0     0.0215    0.00676\n",
      "         punching_hole        230         26          1          0      0.211     0.0973\n",
      "            rolled_pit        230         10          1          0          0          0\n",
      "             silk_spot        230         84      0.594     0.0699       0.11     0.0386\n",
      "         waist_folding        230         15          0          0    0.00536   0.000536\n",
      "            water_spot        230         42      0.743      0.167      0.176      0.055\n",
      "          welding_line        230         50      0.557       0.52      0.484      0.166\n",
      "Speed: 0.9ms preprocess, 3.4ms inference, 0.0ms loss, 1.7ms postprocess per image\n",
      "Results saved to \u001b[1m/Data4/student_zhihan_data/source_code/yolo/ultralytics/runs/detect/val144\u001b[0m\n",
      "💡 Learn more at https://docs.ultralytics.com/modes/val\n",
      "Ultralytics YOLOv8.1.2 🚀 Python-3.9.18 torch-2.1.2+cu121 CUDA:0 (NVIDIA TITAN Xp, 12187MiB)\n",
      "YOLOv8-dropblock summary: 236 layers, 3008942 parameters, 0 gradients, 8.1 GFLOPs\n"
     ]
    },
    {
     "name": "stderr",
     "output_type": "stream",
     "text": [
      "\u001b[34m\u001b[1mval: \u001b[0mScanning /Data4/student_zhihan_data/data/GC10-DET_BilateralBlur_300/test/labels.cache... 230 images, 0 backgrounds, 0 corrupt: 100%|██████████| 230/230 [00:00<?, ?it/s]\n",
      "                 Class     Images  Instances      Box(P          R      mAP50  mAP50-95): 100%|██████████| 15/15 [00:03<00:00,  4.99it/s]\n"
     ]
    },
    {
     "name": "stdout",
     "output_type": "stream",
     "text": [
      "                   all        230        349       0.46      0.131      0.119     0.0561\n",
      "                crease        230         10          1          0     0.0236     0.0165\n",
      "          crescent_gap        230         29      0.499      0.757      0.657      0.372\n",
      "             inclusion        230         40          0          0    0.00753    0.00137\n",
      "              oil_spot        230         43          0          0     0.0146    0.00275\n",
      "         punching_hole        230         26          1          0          0          0\n",
      "            rolled_pit        230         10          1          0          0          0\n",
      "             silk_spot        230         84      0.394     0.0595       0.08     0.0373\n",
      "         waist_folding        230         15      0.323     0.0667     0.0492    0.00984\n",
      "            water_spot        230         42     0.0806     0.0238     0.0278       0.01\n",
      "          welding_line        230         50      0.307        0.4      0.335      0.111\n",
      "Speed: 0.9ms preprocess, 3.6ms inference, 0.0ms loss, 1.4ms postprocess per image\n",
      "Results saved to \u001b[1m/Data4/student_zhihan_data/source_code/yolo/ultralytics/runs/detect/val145\u001b[0m\n",
      "💡 Learn more at https://docs.ultralytics.com/modes/val\n"
     ]
    }
   ],
   "source": [
    "# execute linux command\n",
    "\n",
    "for i in [60,120,180,240,300]:\n",
    "    command = f'yolo task=detect mode=val model=\"/Data4/student_zhihan_data/source_code/yolo/ultralytics/runs/detect/GC10-DET_brightness_0_detect_by_yolov8n_with_dropblock(p=0.05 s=5)2/weights/best.pt\" data=\"/Data4/student_zhihan_data/data/GC10-DET_BilateralBlur_{i}/data.yaml\" device=0 split=\"test\"'\n",
    "    os.system(command)"
   ]
  },
  {
   "cell_type": "code",
   "execution_count": 3,
   "metadata": {},
   "outputs": [
    {
     "name": "stdout",
     "output_type": "stream",
     "text": [
      "Ultralytics YOLOv8.1.2 🚀 Python-3.9.18 torch-2.1.2+cu121 CUDA:0 (NVIDIA TITAN Xp, 12187MiB)\n",
      "YOLOv8-dropblock summary: 236 layers, 3008942 parameters, 0 gradients, 8.1 GFLOPs\n"
     ]
    },
    {
     "name": "stderr",
     "output_type": "stream",
     "text": [
      "\u001b[34m\u001b[1mval: \u001b[0mScanning /Data4/student_zhihan_data/data/GC10-DET_MedianBlur_15/test/labels.cache... 230 images, 0 backgrounds, 0 corrupt: 100%|██████████| 230/230 [00:00<?, ?it/s]\n",
      "                 Class     Images  Instances      Box(P          R      mAP50  mAP50-95): 100%|██████████| 15/15 [00:03<00:00,  4.94it/s]\n"
     ]
    },
    {
     "name": "stdout",
     "output_type": "stream",
     "text": [
      "                   all        230        349      0.728      0.309       0.34      0.158\n",
      "                crease        230         10          0          0    0.00771    0.00311\n",
      "          crescent_gap        230         29      0.752      0.966      0.879      0.495\n",
      "             inclusion        230         40          1          0    0.00194   0.000645\n",
      "              oil_spot        230         43      0.416      0.419      0.346      0.161\n",
      "         punching_hole        230         26      0.841      0.811        0.9      0.496\n",
      "            rolled_pit        230         10          1          0     0.0444     0.0107\n",
      "             silk_spot        230         84          1          0     0.0481     0.0169\n",
      "         waist_folding        230         15      0.837     0.0667      0.188     0.0762\n",
      "            water_spot        230         42       0.77      0.286      0.424      0.137\n",
      "          welding_line        230         50      0.661      0.545      0.562      0.181\n",
      "Speed: 0.9ms preprocess, 3.4ms inference, 0.0ms loss, 0.8ms postprocess per image\n",
      "Results saved to \u001b[1m/Data4/student_zhihan_data/source_code/yolo/ultralytics/runs/detect/val146\u001b[0m\n",
      "💡 Learn more at https://docs.ultralytics.com/modes/val\n",
      "Ultralytics YOLOv8.1.2 🚀 Python-3.9.18 torch-2.1.2+cu121 CUDA:0 (NVIDIA TITAN Xp, 12187MiB)\n",
      "YOLOv8-dropblock summary: 236 layers, 3008942 parameters, 0 gradients, 8.1 GFLOPs\n"
     ]
    },
    {
     "name": "stderr",
     "output_type": "stream",
     "text": [
      "\u001b[34m\u001b[1mval: \u001b[0mScanning /Data4/student_zhihan_data/data/GC10-DET_MedianBlur_29/test/labels.cache... 230 images, 0 backgrounds, 0 corrupt: 100%|██████████| 230/230 [00:00<?, ?it/s]\n",
      "                 Class     Images  Instances      Box(P          R      mAP50  mAP50-95): 100%|██████████| 15/15 [00:02<00:00,  5.48it/s]\n"
     ]
    },
    {
     "name": "stdout",
     "output_type": "stream",
     "text": [
      "                   all        230        349      0.748      0.154      0.179     0.0789\n",
      "                crease        230         10          1          0     0.0238    0.00667\n",
      "          crescent_gap        230         29      0.669      0.897      0.827      0.467\n",
      "             inclusion        230         40          1          0          0          0\n",
      "              oil_spot        230         43      0.409      0.326      0.273        0.1\n",
      "         punching_hole        230         26      0.303     0.0385      0.255     0.0822\n",
      "            rolled_pit        230         10          1          0          0          0\n",
      "             silk_spot        230         84          1          0      0.011    0.00334\n",
      "         waist_folding        230         15          1          0          0          0\n",
      "            water_spot        230         42      0.423     0.0201     0.0488     0.0201\n",
      "          welding_line        230         50      0.673       0.26      0.351      0.109\n",
      "Speed: 0.9ms preprocess, 4.1ms inference, 0.0ms loss, 0.9ms postprocess per image\n",
      "Results saved to \u001b[1m/Data4/student_zhihan_data/source_code/yolo/ultralytics/runs/detect/val147\u001b[0m\n",
      "💡 Learn more at https://docs.ultralytics.com/modes/val\n",
      "Ultralytics YOLOv8.1.2 🚀 Python-3.9.18 torch-2.1.2+cu121 CUDA:0 (NVIDIA TITAN Xp, 12187MiB)\n",
      "YOLOv8-dropblock summary: 236 layers, 3008942 parameters, 0 gradients, 8.1 GFLOPs\n"
     ]
    },
    {
     "name": "stderr",
     "output_type": "stream",
     "text": [
      "\u001b[34m\u001b[1mval: \u001b[0mScanning /Data4/student_zhihan_data/data/GC10-DET_MedianBlur_43/test/labels.cache... 230 images, 0 backgrounds, 0 corrupt: 100%|██████████| 230/230 [00:00<?, ?it/s]\n",
      "                 Class     Images  Instances      Box(P          R      mAP50  mAP50-95): 100%|██████████| 15/15 [00:02<00:00,  5.75it/s]\n"
     ]
    },
    {
     "name": "stdout",
     "output_type": "stream",
     "text": [
      "                   all        230        349      0.743      0.112     0.0969     0.0497\n",
      "                crease        230         10          1          0          0          0\n",
      "          crescent_gap        230         29      0.625      0.862      0.699      0.395\n",
      "             inclusion        230         40          1          0          0          0\n",
      "              oil_spot        230         43      0.492       0.14      0.147     0.0583\n",
      "         punching_hole        230         26          1          0     0.0327     0.0186\n",
      "            rolled_pit        230         10          1          0     0.0181    0.00361\n",
      "             silk_spot        230         84          1          0          0          0\n",
      "         waist_folding        230         15          1          0          0          0\n",
      "            water_spot        230         42          0          0    0.00841     0.0014\n",
      "          welding_line        230         50      0.314       0.12      0.064     0.0199\n",
      "Speed: 0.9ms preprocess, 3.7ms inference, 0.0ms loss, 1.2ms postprocess per image\n",
      "Results saved to \u001b[1m/Data4/student_zhihan_data/source_code/yolo/ultralytics/runs/detect/val148\u001b[0m\n",
      "💡 Learn more at https://docs.ultralytics.com/modes/val\n",
      "Ultralytics YOLOv8.1.2 🚀 Python-3.9.18 torch-2.1.2+cu121 CUDA:0 (NVIDIA TITAN Xp, 12187MiB)\n",
      "YOLOv8-dropblock summary: 236 layers, 3008942 parameters, 0 gradients, 8.1 GFLOPs\n"
     ]
    },
    {
     "name": "stderr",
     "output_type": "stream",
     "text": [
      "\u001b[34m\u001b[1mval: \u001b[0mScanning /Data4/student_zhihan_data/data/GC10-DET_MedianBlur_57/test/labels.cache... 230 images, 0 backgrounds, 0 corrupt: 100%|██████████| 230/230 [00:00<?, ?it/s]\n",
      "                 Class     Images  Instances      Box(P          R      mAP50  mAP50-95): 100%|██████████| 15/15 [00:02<00:00,  5.68it/s]\n"
     ]
    },
    {
     "name": "stdout",
     "output_type": "stream",
     "text": [
      "                   all        230        349      0.821     0.0929     0.0883     0.0411\n",
      "                crease        230         10          1          0          0          0\n",
      "          crescent_gap        230         29      0.685      0.862      0.789      0.378\n",
      "             inclusion        230         40          1          0          0          0\n",
      "              oil_spot        230         43      0.405     0.0465     0.0551     0.0219\n",
      "         punching_hole        230         26          1          0          0          0\n",
      "            rolled_pit        230         10          1          0          0          0\n",
      "             silk_spot        230         84          1          0          0          0\n",
      "         waist_folding        230         15          1          0          0          0\n",
      "            water_spot        230         42          1          0          0          0\n",
      "          welding_line        230         50      0.125       0.02     0.0393      0.011\n",
      "Speed: 0.9ms preprocess, 4.0ms inference, 0.0ms loss, 1.4ms postprocess per image\n",
      "Results saved to \u001b[1m/Data4/student_zhihan_data/source_code/yolo/ultralytics/runs/detect/val149\u001b[0m\n",
      "💡 Learn more at https://docs.ultralytics.com/modes/val\n",
      "Ultralytics YOLOv8.1.2 🚀 Python-3.9.18 torch-2.1.2+cu121 CUDA:0 (NVIDIA TITAN Xp, 12187MiB)\n",
      "YOLOv8-dropblock summary: 236 layers, 3008942 parameters, 0 gradients, 8.1 GFLOPs\n"
     ]
    },
    {
     "name": "stderr",
     "output_type": "stream",
     "text": [
      "\u001b[34m\u001b[1mval: \u001b[0mScanning /Data4/student_zhihan_data/data/GC10-DET_MedianBlur_71/test/labels.cache... 230 images, 0 backgrounds, 0 corrupt: 100%|██████████| 230/230 [00:00<?, ?it/s]\n",
      "                 Class     Images  Instances      Box(P          R      mAP50  mAP50-95): 100%|██████████| 15/15 [00:02<00:00,  5.65it/s]\n"
     ]
    },
    {
     "name": "stdout",
     "output_type": "stream",
     "text": [
      "                   all        230        349      0.747     0.0764     0.0673     0.0292\n",
      "                crease        230         10          1          0          0          0\n",
      "          crescent_gap        230         29      0.672      0.724      0.629      0.277\n",
      "             inclusion        230         40          1          0          0          0\n",
      "              oil_spot        230         43      0.633     0.0233     0.0272     0.0109\n",
      "         punching_hole        230         26          1          0          0          0\n",
      "            rolled_pit        230         10          1          0          0          0\n",
      "             silk_spot        230         84          1          0    0.00624    0.00187\n",
      "         waist_folding        230         15          1          0          0          0\n",
      "            water_spot        230         42          0          0          0          0\n",
      "          welding_line        230         50      0.166     0.0166     0.0105    0.00236\n",
      "Speed: 1.0ms preprocess, 3.5ms inference, 0.0ms loss, 1.9ms postprocess per image\n",
      "Results saved to \u001b[1m/Data4/student_zhihan_data/source_code/yolo/ultralytics/runs/detect/val150\u001b[0m\n",
      "💡 Learn more at https://docs.ultralytics.com/modes/val\n"
     ]
    }
   ],
   "source": [
    "for i in [15,29,43,57,71]:\n",
    "    command = f'yolo task=detect mode=val model=\"/Data4/student_zhihan_data/source_code/yolo/ultralytics/runs/detect/GC10-DET_brightness_0_detect_by_yolov8n_with_dropblock(p=0.05 s=5)2/weights/best.pt\" data=\"/Data4/student_zhihan_data/data/GC10-DET_MedianBlur_{i}/data.yaml\" device=0 split=\"test\"'\n",
    "    os.system(command)"
   ]
  },
  {
   "cell_type": "code",
   "execution_count": 4,
   "metadata": {},
   "outputs": [
    {
     "name": "stdout",
     "output_type": "stream",
     "text": [
      "Ultralytics YOLOv8.1.2 🚀 Python-3.9.18 torch-2.1.2+cu121 CUDA:0 (NVIDIA TITAN Xp, 12187MiB)\n",
      "YOLOv8-dropblock summary: 236 layers, 3008942 parameters, 0 gradients, 8.1 GFLOPs\n"
     ]
    },
    {
     "name": "stderr",
     "output_type": "stream",
     "text": [
      "\u001b[34m\u001b[1mval: \u001b[0mScanning /Data4/student_zhihan_data/data/GC10-DET_brightness_-150/test/labels.cache... 230 images, 0 backgrounds, 0 corrupt: 100%|██████████| 230/230 [00:00<?, ?it/s]\n",
      "                 Class     Images  Instances      Box(P          R      mAP50  mAP50-95): 100%|██████████| 15/15 [00:02<00:00,  5.96it/s]\n"
     ]
    },
    {
     "name": "stdout",
     "output_type": "stream",
     "text": [
      "                   all        230        349      0.348       0.15      0.142      0.054\n",
      "                crease        230         10          0          0     0.0039    0.00156\n",
      "          crescent_gap        230         29      0.623      0.517      0.455      0.155\n",
      "             inclusion        230         40          1          0     0.0158    0.00568\n",
      "              oil_spot        230         43          0          0    0.00357   0.000981\n",
      "         punching_hole        230         26          1      0.261      0.362      0.183\n",
      "            rolled_pit        230         10          0          0          0          0\n",
      "             silk_spot        230         84      0.344     0.0687     0.0518     0.0139\n",
      "         waist_folding        230         15      0.155      0.333      0.261     0.0946\n",
      "            water_spot        230         42          0          0     0.0128    0.00639\n",
      "          welding_line        230         50      0.356       0.32      0.253     0.0783\n",
      "Speed: 0.8ms preprocess, 2.7ms inference, 0.0ms loss, 0.8ms postprocess per image\n",
      "Results saved to \u001b[1m/Data4/student_zhihan_data/source_code/yolo/ultralytics/runs/detect/val151\u001b[0m\n",
      "💡 Learn more at https://docs.ultralytics.com/modes/val\n",
      "Ultralytics YOLOv8.1.2 🚀 Python-3.9.18 torch-2.1.2+cu121 CUDA:0 (NVIDIA TITAN Xp, 12187MiB)\n",
      "YOLOv8-dropblock summary: 236 layers, 3008942 parameters, 0 gradients, 8.1 GFLOPs\n"
     ]
    },
    {
     "name": "stderr",
     "output_type": "stream",
     "text": [
      "\u001b[34m\u001b[1mval: \u001b[0mScanning /Data4/student_zhihan_data/data/GC10-DET_brightness_-100/test/labels.cache... 230 images, 0 backgrounds, 0 corrupt: 100%|██████████| 230/230 [00:00<?, ?it/s]\n",
      "                 Class     Images  Instances      Box(P          R      mAP50  mAP50-95): 100%|██████████| 15/15 [00:02<00:00,  5.86it/s]\n"
     ]
    },
    {
     "name": "stdout",
     "output_type": "stream",
     "text": [
      "                   all        230        349      0.473      0.417      0.345      0.145\n",
      "                crease        230         10      0.435     0.0871     0.0803     0.0284\n",
      "          crescent_gap        230         29      0.536      0.759      0.644      0.298\n",
      "             inclusion        230         40       0.66     0.0491     0.0928     0.0298\n",
      "              oil_spot        230         43      0.458      0.395      0.256      0.105\n",
      "         punching_hole        230         26      0.772      0.654      0.709      0.384\n",
      "            rolled_pit        230         10      0.303        0.2     0.0882     0.0289\n",
      "             silk_spot        230         84      0.419      0.298      0.229     0.0787\n",
      "         waist_folding        230         15      0.247        0.6      0.447      0.139\n",
      "            water_spot        230         42      0.489      0.333      0.348       0.18\n",
      "          welding_line        230         50      0.412        0.8      0.558      0.183\n",
      "Speed: 0.8ms preprocess, 2.5ms inference, 0.0ms loss, 1.1ms postprocess per image\n",
      "Results saved to \u001b[1m/Data4/student_zhihan_data/source_code/yolo/ultralytics/runs/detect/val152\u001b[0m\n",
      "💡 Learn more at https://docs.ultralytics.com/modes/val\n",
      "Ultralytics YOLOv8.1.2 🚀 Python-3.9.18 torch-2.1.2+cu121 CUDA:0 (NVIDIA TITAN Xp, 12187MiB)\n",
      "YOLOv8-dropblock summary: 236 layers, 3008942 parameters, 0 gradients, 8.1 GFLOPs\n"
     ]
    },
    {
     "name": "stderr",
     "output_type": "stream",
     "text": [
      "\u001b[34m\u001b[1mval: \u001b[0mScanning /Data4/student_zhihan_data/data/GC10-DET_brightness_-50/test/labels.cache... 230 images, 0 backgrounds, 0 corrupt: 100%|██████████| 230/230 [00:00<?, ?it/s]\n",
      "                 Class     Images  Instances      Box(P          R      mAP50  mAP50-95): 100%|██████████| 15/15 [00:03<00:00,  4.69it/s]\n"
     ]
    },
    {
     "name": "stdout",
     "output_type": "stream",
     "text": [
      "                   all        230        349      0.453      0.516      0.504      0.231\n",
      "                crease        230         10      0.145     0.0723     0.0758     0.0377\n",
      "          crescent_gap        230         29       0.57      0.862      0.788      0.419\n",
      "             inclusion        230         40      0.305        0.1      0.146     0.0416\n",
      "              oil_spot        230         43      0.503      0.465      0.507      0.205\n",
      "         punching_hole        230         26      0.685      0.921      0.819      0.451\n",
      "            rolled_pit        230         10      0.139        0.1     0.0734     0.0216\n",
      "             silk_spot        230         84      0.523      0.417      0.437      0.172\n",
      "         waist_folding        230         15       0.41      0.667      0.697      0.306\n",
      "            water_spot        230         42      0.706      0.619      0.689      0.374\n",
      "          welding_line        230         50      0.542       0.94      0.812      0.279\n",
      "Speed: 0.8ms preprocess, 2.7ms inference, 0.0ms loss, 1.5ms postprocess per image\n",
      "Results saved to \u001b[1m/Data4/student_zhihan_data/source_code/yolo/ultralytics/runs/detect/val153\u001b[0m\n",
      "💡 Learn more at https://docs.ultralytics.com/modes/val\n",
      "Ultralytics YOLOv8.1.2 🚀 Python-3.9.18 torch-2.1.2+cu121 CUDA:0 (NVIDIA TITAN Xp, 12187MiB)\n",
      "YOLOv8-dropblock summary: 236 layers, 3008942 parameters, 0 gradients, 8.1 GFLOPs\n"
     ]
    },
    {
     "name": "stderr",
     "output_type": "stream",
     "text": [
      "\u001b[34m\u001b[1mval: \u001b[0mScanning /Data4/student_zhihan_data/data/GC10-DET_brightness_-30/test/labels.cache... 230 images, 0 backgrounds, 0 corrupt: 100%|██████████| 230/230 [00:00<?, ?it/s]\n",
      "                 Class     Images  Instances      Box(P          R      mAP50  mAP50-95): 100%|██████████| 15/15 [00:03<00:00,  4.12it/s]\n"
     ]
    },
    {
     "name": "stdout",
     "output_type": "stream",
     "text": [
      "                   all        230        349      0.717      0.524      0.537      0.245\n",
      "                crease        230         10          1          0     0.0376     0.0185\n",
      "          crescent_gap        230         29      0.718      0.877      0.774      0.458\n",
      "             inclusion        230         40          1          0      0.188     0.0588\n",
      "              oil_spot        230         43      0.516      0.545      0.468       0.18\n",
      "         punching_hole        230         26      0.855      0.962      0.961      0.508\n",
      "            rolled_pit        230         10      0.419        0.1      0.137     0.0311\n",
      "             silk_spot        230         84       0.55       0.44      0.422      0.181\n",
      "         waist_folding        230         15      0.609      0.727      0.735      0.347\n",
      "            water_spot        230         42        0.8      0.643      0.761      0.401\n",
      "          welding_line        230         50      0.704      0.951       0.89      0.265\n",
      "Speed: 0.8ms preprocess, 3.1ms inference, 0.0ms loss, 2.4ms postprocess per image\n",
      "Results saved to \u001b[1m/Data4/student_zhihan_data/source_code/yolo/ultralytics/runs/detect/val154\u001b[0m\n",
      "💡 Learn more at https://docs.ultralytics.com/modes/val\n",
      "Ultralytics YOLOv8.1.2 🚀 Python-3.9.18 torch-2.1.2+cu121 CUDA:0 (NVIDIA TITAN Xp, 12187MiB)\n",
      "YOLOv8-dropblock summary: 236 layers, 3008942 parameters, 0 gradients, 8.1 GFLOPs\n"
     ]
    },
    {
     "name": "stderr",
     "output_type": "stream",
     "text": [
      "\u001b[34m\u001b[1mval: \u001b[0mScanning /Data4/student_zhihan_data/data/GC10-DET_brightness_-20/test/labels.cache... 230 images, 0 backgrounds, 0 corrupt: 100%|██████████| 230/230 [00:00<?, ?it/s]\n",
      "                 Class     Images  Instances      Box(P          R      mAP50  mAP50-95): 100%|██████████| 15/15 [00:02<00:00,  5.15it/s]\n"
     ]
    },
    {
     "name": "stdout",
     "output_type": "stream",
     "text": [
      "                   all        230        349      0.557      0.489      0.523      0.234\n",
      "                crease        230         10          0          0      0.112     0.0426\n",
      "          crescent_gap        230         29      0.718      0.878      0.842      0.475\n",
      "             inclusion        230         40      0.514      0.025       0.13     0.0438\n",
      "              oil_spot        230         43      0.525      0.437      0.544      0.221\n",
      "         punching_hole        230         26      0.868      0.923      0.895      0.443\n",
      "            rolled_pit        230         10      0.501        0.1      0.193     0.0723\n",
      "             silk_spot        230         84      0.529      0.405      0.397      0.151\n",
      "         waist_folding        230         15      0.492      0.647      0.659      0.263\n",
      "            water_spot        230         42      0.748      0.595      0.668      0.353\n",
      "          welding_line        230         50      0.675       0.88      0.797      0.276\n",
      "Speed: 0.9ms preprocess, 2.7ms inference, 0.0ms loss, 1.5ms postprocess per image\n",
      "Results saved to \u001b[1m/Data4/student_zhihan_data/source_code/yolo/ultralytics/runs/detect/val155\u001b[0m\n",
      "💡 Learn more at https://docs.ultralytics.com/modes/val\n",
      "Ultralytics YOLOv8.1.2 🚀 Python-3.9.18 torch-2.1.2+cu121 CUDA:0 (NVIDIA TITAN Xp, 12187MiB)\n",
      "YOLOv8-dropblock summary: 236 layers, 3008942 parameters, 0 gradients, 8.1 GFLOPs\n"
     ]
    },
    {
     "name": "stderr",
     "output_type": "stream",
     "text": [
      "\u001b[34m\u001b[1mval: \u001b[0mScanning /Data4/student_zhihan_data/data/GC10-DET_brightness_-15/test/labels.cache... 230 images, 0 backgrounds, 0 corrupt: 100%|██████████| 230/230 [00:00<?, ?it/s]\n",
      "                 Class     Images  Instances      Box(P          R      mAP50  mAP50-95): 100%|██████████| 15/15 [00:03<00:00,  4.22it/s]\n"
     ]
    },
    {
     "name": "stdout",
     "output_type": "stream",
     "text": [
      "                   all        230        349      0.791        0.5      0.536       0.25\n",
      "                crease        230         10          1          0     0.0558     0.0307\n",
      "          crescent_gap        230         29      0.749      0.822      0.784      0.468\n",
      "             inclusion        230         40          1          0      0.126     0.0377\n",
      "              oil_spot        230         43      0.639      0.442      0.513      0.208\n",
      "         punching_hole        230         26      0.785          1      0.934      0.498\n",
      "            rolled_pit        230         10      0.639        0.1      0.184     0.0677\n",
      "             silk_spot        230         84      0.776      0.369      0.541      0.217\n",
      "         waist_folding        230         15      0.694      0.667      0.687      0.313\n",
      "            water_spot        230         42      0.855      0.705      0.742      0.403\n",
      "          welding_line        230         50      0.773        0.9      0.798      0.258\n",
      "Speed: 0.9ms preprocess, 2.9ms inference, 0.0ms loss, 2.2ms postprocess per image\n",
      "Results saved to \u001b[1m/Data4/student_zhihan_data/source_code/yolo/ultralytics/runs/detect/val156\u001b[0m\n",
      "💡 Learn more at https://docs.ultralytics.com/modes/val\n",
      "Ultralytics YOLOv8.1.2 🚀 Python-3.9.18 torch-2.1.2+cu121 CUDA:0 (NVIDIA TITAN Xp, 12187MiB)\n",
      "YOLOv8-dropblock summary: 236 layers, 3008942 parameters, 0 gradients, 8.1 GFLOPs\n"
     ]
    },
    {
     "name": "stderr",
     "output_type": "stream",
     "text": [
      "\u001b[34m\u001b[1mval: \u001b[0mScanning /Data4/student_zhihan_data/data/GC10-DET_brightness_-10/test/labels.cache... 230 images, 0 backgrounds, 0 corrupt: 100%|██████████| 230/230 [00:00<?, ?it/s]\n",
      "                 Class     Images  Instances      Box(P          R      mAP50  mAP50-95): 100%|██████████| 15/15 [00:03<00:00,  4.70it/s]\n"
     ]
    },
    {
     "name": "stdout",
     "output_type": "stream",
     "text": [
      "                   all        230        349      0.534      0.551      0.548       0.26\n",
      "                crease        230         10          0          0     0.0852     0.0474\n",
      "          crescent_gap        230         29      0.748      0.931       0.88      0.498\n",
      "             inclusion        230         40      0.396       0.05      0.158     0.0579\n",
      "              oil_spot        230         43      0.535      0.512      0.571      0.237\n",
      "         punching_hole        230         26      0.798      0.962      0.899      0.495\n",
      "            rolled_pit        230         10      0.367      0.235      0.166     0.0424\n",
      "             silk_spot        230         84      0.532      0.464      0.462      0.174\n",
      "         waist_folding        230         15      0.604      0.733      0.679      0.313\n",
      "            water_spot        230         42      0.781      0.679      0.783      0.448\n",
      "          welding_line        230         50      0.581       0.94      0.795      0.283\n",
      "Speed: 0.8ms preprocess, 3.0ms inference, 0.0ms loss, 1.8ms postprocess per image\n",
      "Results saved to \u001b[1m/Data4/student_zhihan_data/source_code/yolo/ultralytics/runs/detect/val157\u001b[0m\n",
      "💡 Learn more at https://docs.ultralytics.com/modes/val\n",
      "Ultralytics YOLOv8.1.2 🚀 Python-3.9.18 torch-2.1.2+cu121 CUDA:0 (NVIDIA TITAN Xp, 12187MiB)\n",
      "YOLOv8-dropblock summary: 236 layers, 3008942 parameters, 0 gradients, 8.1 GFLOPs\n"
     ]
    },
    {
     "name": "stderr",
     "output_type": "stream",
     "text": [
      "\u001b[34m\u001b[1mval: \u001b[0mScanning /Data4/student_zhihan_data/data/GC10-DET_brightness_10/test/labels.cache... 230 images, 0 backgrounds, 0 corrupt: 100%|██████████| 230/230 [00:00<?, ?it/s]\n",
      "                 Class     Images  Instances      Box(P          R      mAP50  mAP50-95): 100%|██████████| 15/15 [00:03<00:00,  4.96it/s]\n"
     ]
    },
    {
     "name": "stdout",
     "output_type": "stream",
     "text": [
      "                   all        230        349      0.652      0.517      0.552      0.256\n",
      "                crease        230         10          1          0      0.108      0.029\n",
      "          crescent_gap        230         29       0.72      0.931      0.867       0.52\n",
      "             inclusion        230         40      0.628     0.0443      0.186     0.0638\n",
      "              oil_spot        230         43      0.568      0.488      0.522      0.222\n",
      "         punching_hole        230         26      0.837      0.984      0.963      0.564\n",
      "            rolled_pit        230         10          0          0      0.153     0.0421\n",
      "             silk_spot        230         84      0.661      0.442        0.5      0.192\n",
      "         waist_folding        230         15      0.513      0.733      0.645      0.207\n",
      "            water_spot        230         42      0.823      0.665      0.735      0.439\n",
      "          welding_line        230         50      0.771      0.877      0.837      0.277\n",
      "Speed: 0.7ms preprocess, 2.6ms inference, 0.0ms loss, 1.9ms postprocess per image\n",
      "Results saved to \u001b[1m/Data4/student_zhihan_data/source_code/yolo/ultralytics/runs/detect/val158\u001b[0m\n",
      "💡 Learn more at https://docs.ultralytics.com/modes/val\n",
      "Ultralytics YOLOv8.1.2 🚀 Python-3.9.18 torch-2.1.2+cu121 CUDA:0 (NVIDIA TITAN Xp, 12187MiB)\n",
      "YOLOv8-dropblock summary: 236 layers, 3008942 parameters, 0 gradients, 8.1 GFLOPs\n"
     ]
    },
    {
     "name": "stderr",
     "output_type": "stream",
     "text": [
      "\u001b[34m\u001b[1mval: \u001b[0mScanning /Data4/student_zhihan_data/data/GC10-DET_brightness_20/test/labels.cache... 230 images, 0 backgrounds, 0 corrupt: 100%|██████████| 230/230 [00:00<?, ?it/s]\n",
      "                 Class     Images  Instances      Box(P          R      mAP50  mAP50-95): 100%|██████████| 15/15 [00:03<00:00,  4.19it/s]\n"
     ]
    },
    {
     "name": "stdout",
     "output_type": "stream",
     "text": [
      "                   all        230        349      0.584      0.535      0.513      0.244\n",
      "                crease        230         10          1          0     0.0684     0.0318\n",
      "          crescent_gap        230         29       0.64      0.966      0.814      0.499\n",
      "             inclusion        230         40      0.188     0.0697      0.122     0.0419\n",
      "              oil_spot        230         43      0.468      0.512      0.498       0.21\n",
      "         punching_hole        230         26      0.738      0.846      0.804      0.439\n",
      "            rolled_pit        230         10      0.415      0.149      0.136     0.0413\n",
      "             silk_spot        230         84      0.503        0.5      0.474      0.183\n",
      "         waist_folding        230         15      0.544      0.733      0.651      0.319\n",
      "            water_spot        230         42      0.688       0.63      0.724      0.401\n",
      "          welding_line        230         50      0.656       0.94      0.838       0.27\n",
      "Speed: 1.0ms preprocess, 3.0ms inference, 0.0ms loss, 1.5ms postprocess per image\n",
      "Results saved to \u001b[1m/Data4/student_zhihan_data/source_code/yolo/ultralytics/runs/detect/val159\u001b[0m\n",
      "💡 Learn more at https://docs.ultralytics.com/modes/val\n",
      "Ultralytics YOLOv8.1.2 🚀 Python-3.9.18 torch-2.1.2+cu121 CUDA:0 (NVIDIA TITAN Xp, 12187MiB)\n",
      "YOLOv8-dropblock summary: 236 layers, 3008942 parameters, 0 gradients, 8.1 GFLOPs\n"
     ]
    },
    {
     "name": "stderr",
     "output_type": "stream",
     "text": [
      "\u001b[34m\u001b[1mval: \u001b[0mScanning /Data4/student_zhihan_data/data/GC10-DET_brightness_30/test/labels.cache... 230 images, 0 backgrounds, 0 corrupt: 100%|██████████| 230/230 [00:00<?, ?it/s]\n",
      "                 Class     Images  Instances      Box(P          R      mAP50  mAP50-95): 100%|██████████| 15/15 [00:03<00:00,  4.75it/s]\n"
     ]
    },
    {
     "name": "stdout",
     "output_type": "stream",
     "text": [
      "                   all        230        349      0.608      0.514      0.536       0.25\n",
      "                crease        230         10          1          0       0.13      0.051\n",
      "          crescent_gap        230         29      0.677      0.941      0.848      0.511\n",
      "             inclusion        230         40      0.599     0.0399      0.178      0.053\n",
      "              oil_spot        230         43      0.525      0.489      0.521      0.225\n",
      "         punching_hole        230         26      0.847      0.962      0.948      0.511\n",
      "            rolled_pit        230         10          0          0     0.0568    0.00971\n",
      "             silk_spot        230         84      0.565      0.464      0.518      0.219\n",
      "         waist_folding        230         15      0.456      0.667      0.573      0.237\n",
      "            water_spot        230         42      0.739      0.619      0.719      0.393\n",
      "          welding_line        230         50      0.672       0.96       0.87      0.292\n",
      "Speed: 0.9ms preprocess, 2.7ms inference, 0.0ms loss, 1.8ms postprocess per image\n",
      "Results saved to \u001b[1m/Data4/student_zhihan_data/source_code/yolo/ultralytics/runs/detect/val160\u001b[0m\n",
      "💡 Learn more at https://docs.ultralytics.com/modes/val\n",
      "Ultralytics YOLOv8.1.2 🚀 Python-3.9.18 torch-2.1.2+cu121 CUDA:0 (NVIDIA TITAN Xp, 12187MiB)\n",
      "YOLOv8-dropblock summary: 236 layers, 3008942 parameters, 0 gradients, 8.1 GFLOPs\n"
     ]
    },
    {
     "name": "stderr",
     "output_type": "stream",
     "text": [
      "\u001b[34m\u001b[1mval: \u001b[0mScanning /Data4/student_zhihan_data/data/GC10-DET_brightness_50/test/labels.cache... 230 images, 0 backgrounds, 0 corrupt: 100%|██████████| 230/230 [00:00<?, ?it/s]\n",
      "                 Class     Images  Instances      Box(P          R      mAP50  mAP50-95): 100%|██████████| 15/15 [00:02<00:00,  5.44it/s]\n"
     ]
    },
    {
     "name": "stdout",
     "output_type": "stream",
     "text": [
      "                   all        230        349      0.507      0.521      0.505      0.239\n",
      "                crease        230         10      0.282        0.1     0.0693     0.0255\n",
      "          crescent_gap        230         29      0.712      0.931      0.823      0.524\n",
      "             inclusion        230         40      0.265       0.05      0.152     0.0365\n",
      "              oil_spot        230         43      0.439      0.372      0.397      0.162\n",
      "         punching_hole        230         26      0.836          1      0.982      0.525\n",
      "            rolled_pit        230         10      0.222        0.1      0.144     0.0432\n",
      "             silk_spot        230         84      0.504      0.435      0.469      0.182\n",
      "         waist_folding        230         15      0.484      0.667      0.595      0.245\n",
      "            water_spot        230         42      0.732      0.619      0.671      0.406\n",
      "          welding_line        230         50      0.595       0.94      0.748      0.241\n",
      "Speed: 0.7ms preprocess, 2.7ms inference, 0.0ms loss, 1.0ms postprocess per image\n",
      "Results saved to \u001b[1m/Data4/student_zhihan_data/source_code/yolo/ultralytics/runs/detect/val161\u001b[0m\n",
      "💡 Learn more at https://docs.ultralytics.com/modes/val\n",
      "Ultralytics YOLOv8.1.2 🚀 Python-3.9.18 torch-2.1.2+cu121 CUDA:0 (NVIDIA TITAN Xp, 12187MiB)\n",
      "YOLOv8-dropblock summary: 236 layers, 3008942 parameters, 0 gradients, 8.1 GFLOPs\n"
     ]
    },
    {
     "name": "stderr",
     "output_type": "stream",
     "text": [
      "\u001b[34m\u001b[1mval: \u001b[0mScanning /Data4/student_zhihan_data/data/GC10-DET_brightness_60/test/labels.cache... 230 images, 0 backgrounds, 0 corrupt: 100%|██████████| 230/230 [00:00<?, ?it/s]\n",
      "                 Class     Images  Instances      Box(P          R      mAP50  mAP50-95): 100%|██████████| 15/15 [00:03<00:00,  4.44it/s]\n"
     ]
    },
    {
     "name": "stdout",
     "output_type": "stream",
     "text": [
      "                   all        230        349      0.516      0.517      0.512       0.24\n",
      "                crease        230         10          0          0      0.072     0.0293\n",
      "          crescent_gap        230         29      0.654      0.849      0.759      0.473\n",
      "             inclusion        230         40     0.0877       0.05     0.0986     0.0337\n",
      "              oil_spot        230         43      0.558      0.558      0.482      0.198\n",
      "         punching_hole        230         26       0.81      0.962      0.944      0.519\n",
      "            rolled_pit        230         10      0.616        0.1      0.204     0.0486\n",
      "             silk_spot        230         84      0.561      0.417      0.446       0.18\n",
      "         waist_folding        230         15      0.488      0.667      0.638      0.257\n",
      "            water_spot        230         42      0.747      0.667      0.718      0.416\n",
      "          welding_line        230         50      0.635        0.9      0.756      0.247\n",
      "Speed: 0.8ms preprocess, 2.7ms inference, 0.0ms loss, 2.2ms postprocess per image\n",
      "Results saved to \u001b[1m/Data4/student_zhihan_data/source_code/yolo/ultralytics/runs/detect/val162\u001b[0m\n",
      "💡 Learn more at https://docs.ultralytics.com/modes/val\n",
      "Ultralytics YOLOv8.1.2 🚀 Python-3.9.18 torch-2.1.2+cu121 CUDA:0 (NVIDIA TITAN Xp, 12187MiB)\n",
      "YOLOv8-dropblock summary: 236 layers, 3008942 parameters, 0 gradients, 8.1 GFLOPs\n"
     ]
    },
    {
     "name": "stderr",
     "output_type": "stream",
     "text": [
      "\u001b[34m\u001b[1mval: \u001b[0mScanning /Data4/student_zhihan_data/data/GC10-DET_brightness_70/test/labels.cache... 230 images, 0 backgrounds, 0 corrupt: 100%|██████████| 230/230 [00:00<?, ?it/s]\n",
      "                 Class     Images  Instances      Box(P          R      mAP50  mAP50-95): 100%|██████████| 15/15 [00:03<00:00,  4.07it/s]\n"
     ]
    },
    {
     "name": "stdout",
     "output_type": "stream",
     "text": [
      "                   all        230        349      0.598      0.457      0.509      0.244\n",
      "                crease        230         10          0          0     0.0382     0.0141\n",
      "          crescent_gap        230         29      0.684       0.82      0.774      0.503\n",
      "             inclusion        230         40          1          0      0.113     0.0283\n",
      "              oil_spot        230         43      0.736      0.455      0.528      0.205\n",
      "         punching_hole        230         26          1      0.912       0.99      0.555\n",
      "            rolled_pit        230         10          0          0      0.118     0.0433\n",
      "             silk_spot        230         84      0.651      0.393      0.452      0.179\n",
      "         waist_folding        230         15      0.499        0.4      0.608      0.279\n",
      "            water_spot        230         42      0.762      0.686       0.72      0.398\n",
      "          welding_line        230         50      0.653      0.902      0.746      0.241\n",
      "Speed: 0.8ms preprocess, 2.8ms inference, 0.0ms loss, 1.4ms postprocess per image\n",
      "Results saved to \u001b[1m/Data4/student_zhihan_data/source_code/yolo/ultralytics/runs/detect/val163\u001b[0m\n",
      "💡 Learn more at https://docs.ultralytics.com/modes/val\n",
      "Ultralytics YOLOv8.1.2 🚀 Python-3.9.18 torch-2.1.2+cu121 CUDA:0 (NVIDIA TITAN Xp, 12187MiB)\n",
      "YOLOv8-dropblock summary: 236 layers, 3008942 parameters, 0 gradients, 8.1 GFLOPs\n"
     ]
    },
    {
     "name": "stderr",
     "output_type": "stream",
     "text": [
      "\u001b[34m\u001b[1mval: \u001b[0mScanning /Data4/student_zhihan_data/data/GC10-DET_brightness_90/test/labels.cache... 230 images, 0 backgrounds, 0 corrupt: 100%|██████████| 230/230 [00:00<?, ?it/s]\n",
      "                 Class     Images  Instances      Box(P          R      mAP50  mAP50-95): 100%|██████████| 15/15 [00:02<00:00,  5.11it/s]\n"
     ]
    },
    {
     "name": "stdout",
     "output_type": "stream",
     "text": [
      "                   all        230        349      0.687      0.425       0.48       0.22\n",
      "                crease        230         10          1          0     0.0343     0.0144\n",
      "          crescent_gap        230         29      0.668      0.763      0.693      0.402\n",
      "             inclusion        230         40      0.328       0.05      0.109     0.0281\n",
      "              oil_spot        230         43      0.546      0.465      0.496      0.216\n",
      "         punching_hole        230         26      0.894      0.846      0.956      0.474\n",
      "            rolled_pit        230         10      0.535        0.1      0.161     0.0898\n",
      "             silk_spot        230         84      0.615       0.25      0.331      0.125\n",
      "         waist_folding        230         15       0.87      0.448      0.658      0.293\n",
      "            water_spot        230         42      0.806      0.571      0.677      0.335\n",
      "          welding_line        230         50      0.614       0.76      0.689       0.22\n",
      "Speed: 0.8ms preprocess, 2.8ms inference, 0.0ms loss, 1.7ms postprocess per image\n",
      "Results saved to \u001b[1m/Data4/student_zhihan_data/source_code/yolo/ultralytics/runs/detect/val164\u001b[0m\n",
      "💡 Learn more at https://docs.ultralytics.com/modes/val\n"
     ]
    }
   ],
   "source": [
    "for i in [-150, -100, -50, -30, -20, -15, -10, 10,20, 30, 50, 60, 70, 90]:\n",
    "    command = f'yolo task=detect mode=val model=\"/Data4/student_zhihan_data/source_code/yolo/ultralytics/runs/detect/GC10-DET_brightness_0_detect_by_yolov8n_with_dropblock(p=0.05 s=5)2/weights/best.pt\" data=\"/Data4/student_zhihan_data/data/GC10-DET_brightness_{i}/data.yaml\" device=0 split=\"test\"'\n",
    "    os.system(command)  "
   ]
  },
  {
   "cell_type": "code",
   "execution_count": 5,
   "metadata": {},
   "outputs": [
    {
     "name": "stdout",
     "output_type": "stream",
     "text": [
      "Ultralytics YOLOv8.1.2 🚀 Python-3.9.18 torch-2.1.2+cu121 CUDA:0 (NVIDIA TITAN Xp, 12187MiB)\n",
      "YOLOv8-dropblock summary: 236 layers, 3008942 parameters, 0 gradients, 8.1 GFLOPs\n"
     ]
    },
    {
     "name": "stderr",
     "output_type": "stream",
     "text": [
      "\u001b[34m\u001b[1mval: \u001b[0mScanning /Data4/student_zhihan_data/data/GC10-DET/test/labels.cache... 230 images, 0 backgrounds, 0 corrupt: 100%|██████████| 230/230 [00:00<?, ?it/s]\n",
      "                 Class     Images  Instances      Box(P          R      mAP50  mAP50-95): 100%|██████████| 15/15 [00:03<00:00,  4.61it/s]\n"
     ]
    },
    {
     "name": "stdout",
     "output_type": "stream",
     "text": [
      "                   all        230        349      0.497      0.532        0.5      0.233\n",
      "                crease        230         10          0          0     0.0361     0.0166\n",
      "          crescent_gap        230         29      0.722      0.966      0.871      0.504\n",
      "             inclusion        230         40      0.184      0.025      0.122     0.0418\n",
      "              oil_spot        230         43      0.476      0.512      0.518      0.208\n",
      "         punching_hole        230         26      0.782      0.923       0.83      0.436\n",
      "            rolled_pit        230         10      0.544        0.2      0.157     0.0469\n",
      "             silk_spot        230         84      0.551       0.44      0.482      0.191\n",
      "         waist_folding        230         15      0.473      0.667       0.52      0.227\n",
      "            water_spot        230         42       0.64      0.667      0.713       0.41\n",
      "          welding_line        230         50      0.599      0.926      0.756      0.246\n",
      "Speed: 1.0ms preprocess, 4.5ms inference, 0.0ms loss, 1.2ms postprocess per image\n",
      "Results saved to \u001b[1m/Data4/student_zhihan_data/source_code/yolo/ultralytics/runs/detect/val165\u001b[0m\n",
      "💡 Learn more at https://docs.ultralytics.com/modes/val\n"
     ]
    },
    {
     "data": {
      "text/plain": [
       "0"
      ]
     },
     "execution_count": 5,
     "metadata": {},
     "output_type": "execute_result"
    }
   ],
   "source": [
    "command = f'yolo task=detect mode=val model=\"/Data4/student_zhihan_data/source_code/yolo/ultralytics/runs/detect/GC10-DET_brightness_0_detect_by_yolov8n_with_dropblock(p=0.05 s=5)2/weights/best.pt\" data=\"/Data4/student_zhihan_data/data/GC10-DET/data.yaml\" device=0 split=\"test\"'\n",
    "os.system(command)  "
   ]
  },
  {
   "cell_type": "code",
   "execution_count": 6,
   "metadata": {},
   "outputs": [
    {
     "name": "stdout",
     "output_type": "stream",
     "text": [
      "Ultralytics YOLOv8.1.2 🚀 Python-3.9.18 torch-2.1.2+cu121 CUDA:0 (NVIDIA TITAN Xp, 12187MiB)\n",
      "YOLOv8-dropblock summary: 236 layers, 3008942 parameters, 0 gradients, 8.1 GFLOPs\n"
     ]
    },
    {
     "name": "stderr",
     "output_type": "stream",
     "text": [
      "\u001b[34m\u001b[1mval: \u001b[0mScanning /Data4/student_zhihan_data/data/GC10-DET_Transform_Scale_0.0:0.05/test/labels.cache... 230 images, 0 backgrounds, 0 corrupt: 100%|██████████| 230/230 [00:00<?, ?it/s]\n",
      "                 Class     Images  Instances      Box(P          R      mAP50  mAP50-95): 100%|██████████| 15/15 [00:02<00:00,  5.46it/s]\n"
     ]
    },
    {
     "name": "stdout",
     "output_type": "stream",
     "text": [
      "                   all        230        347      0.593      0.507      0.498      0.227\n",
      "                crease        230         10          1          0      0.103      0.024\n",
      "          crescent_gap        230         29      0.682      0.886      0.785      0.444\n",
      "             inclusion        230         40      0.287     0.0144      0.119     0.0382\n",
      "              oil_spot        230         43      0.489      0.423      0.465      0.193\n",
      "         punching_hole        230         25      0.775       0.96      0.894       0.44\n",
      "            rolled_pit        230         10      0.366     0.0732      0.165     0.0358\n",
      "             silk_spot        230         84      0.569      0.488      0.475      0.179\n",
      "         waist_folding        230         15      0.429      0.733      0.624      0.283\n",
      "            water_spot        230         42      0.655      0.595      0.589       0.36\n",
      "          welding_line        230         49      0.674      0.898      0.762      0.268\n",
      "Speed: 0.9ms preprocess, 2.9ms inference, 0.0ms loss, 1.1ms postprocess per image\n",
      "Results saved to \u001b[1m/Data4/student_zhihan_data/source_code/yolo/ultralytics/runs/detect/val131\u001b[0m\n",
      "💡 Learn more at https://docs.ultralytics.com/modes/val\n",
      "Ultralytics YOLOv8.1.2 🚀 Python-3.9.18 torch-2.1.2+cu121 CUDA:0 (NVIDIA TITAN Xp, 12187MiB)\n",
      "YOLOv8-dropblock summary: 236 layers, 3008942 parameters, 0 gradients, 8.1 GFLOPs\n"
     ]
    },
    {
     "name": "stderr",
     "output_type": "stream",
     "text": [
      "\u001b[34m\u001b[1mval: \u001b[0mScanning /Data4/student_zhihan_data/data/GC10-DET_Transform_Scale_0.05:0.1/test/labels.cache... 230 images, 3 backgrounds, 0 corrupt: 100%|██████████| 230/230 [00:00<?, ?it/s]\n",
      "                 Class     Images  Instances      Box(P          R      mAP50  mAP50-95): 100%|██████████| 15/15 [00:02<00:00,  5.58it/s]\n"
     ]
    },
    {
     "name": "stdout",
     "output_type": "stream",
     "text": [
      "                   all        230        334      0.591       0.39      0.423      0.192\n",
      "                crease        230         10          1          0     0.0297     0.0125\n",
      "          crescent_gap        230         27      0.523       0.63      0.586      0.268\n",
      "             inclusion        230         39      0.133     0.0256      0.118     0.0334\n",
      "              oil_spot        230         39      0.704       0.41      0.503       0.22\n",
      "         punching_hole        230         22      0.869      0.727      0.751      0.399\n",
      "            rolled_pit        230          9      0.298      0.111      0.129     0.0392\n",
      "             silk_spot        230         84      0.706      0.371      0.468      0.183\n",
      "         waist_folding        230         15      0.632      0.573       0.64      0.311\n",
      "            water_spot        230         41      0.575      0.529       0.58       0.31\n",
      "          welding_line        230         48      0.466      0.521      0.427      0.139\n",
      "Speed: 0.6ms preprocess, 2.5ms inference, 0.0ms loss, 1.1ms postprocess per image\n",
      "Results saved to \u001b[1m/Data4/student_zhihan_data/source_code/yolo/ultralytics/runs/detect/val132\u001b[0m\n",
      "💡 Learn more at https://docs.ultralytics.com/modes/val\n",
      "Ultralytics YOLOv8.1.2 🚀 Python-3.9.18 torch-2.1.2+cu121 CUDA:0 (NVIDIA TITAN Xp, 12187MiB)\n",
      "YOLOv8-dropblock summary: 236 layers, 3008942 parameters, 0 gradients, 8.1 GFLOPs\n"
     ]
    },
    {
     "name": "stderr",
     "output_type": "stream",
     "text": [
      "\u001b[34m\u001b[1mval: \u001b[0mScanning /Data4/student_zhihan_data/data/GC10-DET_Transform_Scale_0.1:0.15/test/labels.cache... 230 images, 16 backgrounds, 0 corrupt: 100%|██████████| 230/230 [00:00<?, ?it/s]\n",
      "                 Class     Images  Instances      Box(P          R      mAP50  mAP50-95): 100%|██████████| 15/15 [00:02<00:00,  5.73it/s]\n"
     ]
    },
    {
     "name": "stdout",
     "output_type": "stream",
     "text": [
      "                   all        230        299      0.475      0.328      0.306      0.123\n",
      "                crease        230          9      0.432      0.096     0.0898     0.0538\n",
      "          crescent_gap        230         26      0.334      0.731      0.528      0.214\n",
      "             inclusion        230         33          1          0     0.0442     0.0187\n",
      "              oil_spot        230         33      0.474      0.273      0.259     0.0948\n",
      "         punching_hole        230          8      0.538        0.5      0.516      0.249\n",
      "            rolled_pit        230          9          0          0    0.00632    0.00228\n",
      "             silk_spot        230         82      0.594      0.285       0.38      0.115\n",
      "         waist_folding        230         15      0.638      0.533      0.638      0.261\n",
      "            water_spot        230         36       0.25      0.444      0.312      0.122\n",
      "          welding_line        230         48      0.491      0.417      0.289     0.0986\n",
      "Speed: 0.6ms preprocess, 2.5ms inference, 0.0ms loss, 1.2ms postprocess per image\n",
      "Results saved to \u001b[1m/Data4/student_zhihan_data/source_code/yolo/ultralytics/runs/detect/val133\u001b[0m\n",
      "💡 Learn more at https://docs.ultralytics.com/modes/val\n",
      "Ultralytics YOLOv8.1.2 🚀 Python-3.9.18 torch-2.1.2+cu121 CUDA:0 (NVIDIA TITAN Xp, 12187MiB)\n",
      "YOLOv8-dropblock summary: 236 layers, 3008942 parameters, 0 gradients, 8.1 GFLOPs\n"
     ]
    },
    {
     "name": "stderr",
     "output_type": "stream",
     "text": [
      "\u001b[34m\u001b[1mval: \u001b[0mScanning /Data4/student_zhihan_data/data/GC10-DET_Transform_Scale_0.15:0.2/test/labels.cache... 230 images, 21 backgrounds, 0 corrupt: 100%|██████████| 230/230 [00:00<?, ?it/s]\n",
      "                 Class     Images  Instances      Box(P          R      mAP50  mAP50-95): 100%|██████████| 15/15 [00:02<00:00,  6.06it/s]\n"
     ]
    },
    {
     "name": "stdout",
     "output_type": "stream",
     "text": [
      "                   all        230        287      0.486      0.289      0.272     0.0949\n",
      "                crease        230         10          0          0     0.0488      0.022\n",
      "          crescent_gap        230         24      0.249      0.458      0.314      0.118\n",
      "             inclusion        230         28          1          0      0.152     0.0606\n",
      "              oil_spot        230         34      0.587      0.419      0.445       0.17\n",
      "         punching_hole        230          6      0.454      0.333      0.391      0.165\n",
      "            rolled_pit        230         10          1          0     0.0309    0.00776\n",
      "             silk_spot        230         79      0.431      0.266      0.282     0.0856\n",
      "         waist_folding        230         15      0.577      0.637      0.577      0.214\n",
      "            water_spot        230         38      0.243      0.447      0.253      0.062\n",
      "          welding_line        230         43      0.316      0.326       0.23      0.043\n",
      "Speed: 0.6ms preprocess, 2.5ms inference, 0.0ms loss, 0.8ms postprocess per image\n",
      "Results saved to \u001b[1m/Data4/student_zhihan_data/source_code/yolo/ultralytics/runs/detect/val134\u001b[0m\n",
      "💡 Learn more at https://docs.ultralytics.com/modes/val\n",
      "Ultralytics YOLOv8.1.2 🚀 Python-3.9.18 torch-2.1.2+cu121 CUDA:0 (NVIDIA TITAN Xp, 12187MiB)\n",
      "YOLOv8-dropblock summary: 236 layers, 3008942 parameters, 0 gradients, 8.1 GFLOPs\n"
     ]
    },
    {
     "name": "stderr",
     "output_type": "stream",
     "text": [
      "\u001b[34m\u001b[1mval: \u001b[0mScanning /Data4/student_zhihan_data/data/GC10-DET_Transform_Scale_0.2:0.25/test/labels.cache... 230 images, 39 backgrounds, 0 corrupt: 100%|██████████| 230/230 [00:00<?, ?it/s]\n",
      "                 Class     Images  Instances      Box(P          R      mAP50  mAP50-95): 100%|██████████| 15/15 [00:02<00:00,  5.37it/s]\n"
     ]
    },
    {
     "name": "stdout",
     "output_type": "stream",
     "text": [
      "                   all        230        259      0.409      0.306      0.244     0.0939\n",
      "                crease        230          9     0.0571      0.111     0.0155    0.00343\n",
      "          crescent_gap        230         23     0.0826      0.304      0.174     0.0794\n",
      "             inclusion        230         23          1          0      0.084     0.0256\n",
      "              oil_spot        230         26       0.34      0.462      0.379      0.129\n",
      "         punching_hole        230          5      0.568        0.4      0.335      0.174\n",
      "            rolled_pit        230          8      0.726      0.125       0.17     0.0284\n",
      "             silk_spot        230         73      0.286      0.397      0.294     0.0783\n",
      "         waist_folding        230         15      0.702      0.667       0.75       0.34\n",
      "            water_spot        230         34      0.143      0.382      0.106     0.0486\n",
      "          welding_line        230         43      0.185      0.209      0.129     0.0315\n",
      "Speed: 0.9ms preprocess, 3.0ms inference, 0.0ms loss, 1.5ms postprocess per image\n",
      "Results saved to \u001b[1m/Data4/student_zhihan_data/source_code/yolo/ultralytics/runs/detect/val135\u001b[0m\n",
      "💡 Learn more at https://docs.ultralytics.com/modes/val\n",
      "Ultralytics YOLOv8.1.2 🚀 Python-3.9.18 torch-2.1.2+cu121 CUDA:0 (NVIDIA TITAN Xp, 12187MiB)\n",
      "YOLOv8-dropblock summary: 236 layers, 3008942 parameters, 0 gradients, 8.1 GFLOPs\n"
     ]
    },
    {
     "name": "stderr",
     "output_type": "stream",
     "text": [
      "\u001b[34m\u001b[1mval: \u001b[0mScanning /Data4/student_zhihan_data/data/GC10-DET_Transform_Scale_0.25:0.3/test/labels.cache... 230 images, 45 backgrounds, 0 corrupt: 100%|██████████| 230/230 [00:00<?, ?it/s]\n",
      "                 Class     Images  Instances      Box(P          R      mAP50  mAP50-95): 100%|██████████| 15/15 [00:02<00:00,  6.19it/s]\n"
     ]
    },
    {
     "name": "stdout",
     "output_type": "stream",
     "text": [
      "                   all        230        234      0.184      0.135     0.0924     0.0302\n",
      "                crease        230          9          0          0    0.00943    0.00335\n",
      "          crescent_gap        230         23     0.0645      0.174      0.033     0.0131\n",
      "             inclusion        230         19      0.469     0.0493     0.0596     0.0184\n",
      "              oil_spot        230         18      0.059     0.0556     0.0487     0.0142\n",
      "         punching_hole        230          6      0.562      0.333      0.283     0.0681\n",
      "            rolled_pit        230          7          0          0    0.00849    0.00372\n",
      "             silk_spot        230         72        0.2      0.208      0.164     0.0635\n",
      "         waist_folding        230         15      0.386      0.295      0.261      0.101\n",
      "            water_spot        230         30     0.0707      0.203     0.0473     0.0126\n",
      "          welding_line        230         35     0.0323     0.0286    0.00998    0.00341\n",
      "Speed: 0.8ms preprocess, 2.7ms inference, 0.0ms loss, 1.0ms postprocess per image\n",
      "Results saved to \u001b[1m/Data4/student_zhihan_data/source_code/yolo/ultralytics/runs/detect/val136\u001b[0m\n",
      "💡 Learn more at https://docs.ultralytics.com/modes/val\n"
     ]
    }
   ],
   "source": [
    "for i in ['0.0:0.05', '0.05:0.1', '0.1:0.15', '0.15:0.2', '0.2:0.25', '0.25:0.3']:\n",
    "    command = f'yolo task=detect mode=val model=\"/Data4/student_zhihan_data/source_code/yolo/ultralytics/runs/detect/GC10-DET_brightness_0_detect_by_yolov8n_with_dropblock(p=0.05 s=5)2/weights/best.pt\" data=\"/Data4/student_zhihan_data/data/GC10-DET_Transform_Scale_{i}/data.yaml\" device=0 split=\"test\"'\n",
    "    os.system(command)  "
   ]
  },
  {
   "cell_type": "code",
   "execution_count": null,
   "metadata": {},
   "outputs": [],
   "source": [
    "records = {}\n",
    "for i in [-10, -15, -20, -25, -30, -50, -100, -150, 10, 0, 20, 30, 50, 60, 70, 90, 110]:\n",
    "    if i != 0:\n",
    "        model_path = os.path.join('/Data4/student_zhihan_data/source_code/yolo/ultralytics/runs/detect/GC10-DET_brightness_%d detect by yolov8n/weights/best.pt' % i)\n",
    "        if not os.path.exists(model_path):\n",
    "            continue\n",
    "        \n",
    "        yaml_path = os.path.join('/Data4/student_zhihan_data/data/GC10-DET_brightness_%d/data.yaml' % i)\n",
    "        if not os.path.exists(yaml_path):\n",
    "            print(yaml_path)\n",
    "        \n",
    "        # Read the YAML file\n",
    "        with open(yaml_path, 'r') as file:\n",
    "            data = yaml.safe_load(file)\n",
    "\n",
    "        # Append the new key-value pair\n",
    "        if 'path' not in data:\n",
    "            data['path'] = '/Data4/student_zhihan_data/data/GC10-DET_brightness_%d' % i\n",
    "        \n",
    "        # Write the modified data structure back to the YAML file\n",
    "        with open(yaml_path, 'w') as file:\n",
    "            yaml.dump(data, file)\n",
    "        \n",
    "        model = YOLO(model_path)  # load a custom model\n",
    "        metrics = model.val(data='/Data4/student_zhihan_data/data/GC10-DET_brightness_%d/data.yaml' % i, device='0,1,2,3', split='val', verbose=False)  # no arguments needed, dataset and settings remembered \n",
    "        records[i] = metrics \n",
    "    else:\n",
    "        model_path = os.path.join('/Data4/student_zhihan_data/source_code/yolo/ultralytics/runs/detect/GC10-DET detect by yolov8n5/weights/best.pt')\n",
    "        if not os.path.exists(model_path):\n",
    "            continue\n",
    "        \n",
    "        yaml_path = os.path.join('/Data4/student_zhihan_data/data/GC10-DET/data.yaml')\n",
    "        if not os.path.exists(yaml_path):\n",
    "            print(yaml_path)\n",
    "        \n",
    "        # Read the YAML file\n",
    "        with open(yaml_path, 'r') as file:\n",
    "            data = yaml.safe_load(file)\n",
    "\n",
    "        # Append the new key-value pair\n",
    "        if 'path' not in data:\n",
    "            data['path'] = '/Data4/student_zhihan_data/data/GC10-DET'\n",
    "        # Write the modified data structure back to the YAML file\n",
    "        with open(yaml_path, 'w') as file:\n",
    "            yaml.dump(data, file)\n",
    "        \n",
    "        model = YOLO(model_path)  # load a custom model\n",
    "        metrics = model.val(data='/Data4/student_zhihan_data/data/GC10-DET/data.yaml', device='0,1,2,3', split='val', verbose=False)  # no arguments needed, dataset and settings remembered \n",
    "        records[i] = metrics "
   ]
  },
  {
   "cell_type": "code",
   "execution_count": null,
   "metadata": {},
   "outputs": [],
   "source": [
    "records.keys()"
   ]
  },
  {
   "cell_type": "code",
   "execution_count": null,
   "metadata": {},
   "outputs": [],
   "source": [
    "for i in records:\n",
    "    print(i, records[i].results_dict)"
   ]
  },
  {
   "cell_type": "code",
   "execution_count": null,
   "metadata": {},
   "outputs": [],
   "source": [
    "model_path = os.path.join('/Data4/student_zhihan_data/source_code/yolo/ultralytics/runs/detect/GC10-DET detect by yolov8n5/weights/best.pt')\n",
    "\n",
    "i = 0\n",
    "yaml_path = os.path.join('/Data4/student_zhihan_data/data/GC10-DET/data.yaml')\n",
    "if not os.path.exists(yaml_path):\n",
    "    print(yaml_path)\n",
    "\n",
    "# Read the YAML file\n",
    "with open(yaml_path, 'r') as file:\n",
    "    data = yaml.safe_load(file)\n",
    "\n",
    "# Append the new key-value pair\n",
    "data['path'] = '/Data4/student_zhihan_data/data/GC10-DET'\n",
    "\n",
    "# Write the modified data structure back to the YAML file\n",
    "with open('/Data4/student_zhihan_data/data/GC10-DET_brightness_-30/data.yaml', 'w') as file:\n",
    "    yaml.dump(data, file)\n",
    "    \n",
    "model = YOLO(model_path)  # load a custom model\n",
    "metrics = model.val(data='/Data4/student_zhihan_data/data/GC10-DET_brightness_%d/data.yaml' % i, device='0,1,2,3', split='val', verbose=False)  # no arguments needed, dataset and settings remembered \n",
    "records[i] = metrics "
   ]
  },
  {
   "cell_type": "code",
   "execution_count": null,
   "metadata": {},
   "outputs": [],
   "source": [
    "# records to csv\n",
    "import pandas\n",
    "columns = []\n",
    "columns.extend([i for i in records[10].results_dict.keys()])\n",
    "df = pandas.DataFrame(columns=columns)\n",
    "for i in records:\n",
    "    print(i, records[i].results_dict)\n",
    "    # add new row to df\n",
    "    df.loc[i] = records[i].results_dict"
   ]
  },
  {
   "cell_type": "code",
   "execution_count": 67,
   "metadata": {},
   "outputs": [],
   "source": [
    "df.to_csv(\"./results.csv\")"
   ]
  },
  {
   "cell_type": "code",
   "execution_count": 2,
   "metadata": {},
   "outputs": [
    {
     "data": {
      "text/plain": [
       "\"train: ../train/images\\nval: ../valid/images\\ntest: ../test/images\\n\\nnc: 10\\nnames: ['crease', 'crescent_gap', 'inclusion', 'oil_spot', 'punching_hole', 'rolled_pit', 'silk_spot', 'waist_folding', 'water_spot', 'welding_line']\\n\\nroboflow:\\n  workspace: machinelearning-p49ei\\n  project: gc10-det-dataset\\n  version: 4\\n  license: Public Domain\\n  url: https://universe.roboflow.com/machinelearning-p49ei/gc10-det-dataset/dataset/4\""
      ]
     },
     "execution_count": 2,
     "metadata": {},
     "output_type": "execute_result"
    }
   ],
   "source": []
  },
  {
   "cell_type": "code",
   "execution_count": null,
   "metadata": {},
   "outputs": [],
   "source": []
  }
 ],
 "metadata": {
  "kernelspec": {
   "display_name": "yolov8",
   "language": "python",
   "name": "python3"
  },
  "language_info": {
   "codemirror_mode": {
    "name": "ipython",
    "version": 3
   },
   "file_extension": ".py",
   "mimetype": "text/x-python",
   "name": "python",
   "nbconvert_exporter": "python",
   "pygments_lexer": "ipython3",
   "version": "3.9.18"
  }
 },
 "nbformat": 4,
 "nbformat_minor": 2
}
