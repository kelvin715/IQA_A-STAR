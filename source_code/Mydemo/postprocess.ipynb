{
 "cells": [
  {
   "cell_type": "code",
   "execution_count": 2,
   "metadata": {},
   "outputs": [],
   "source": [
    "import pandas as pd\n",
    "import os\n",
    "\n",
    "#delete same rows\n",
    "# root = '/Data4/student_zhihan_data/source_code/IQA_A-STAR/source_code/Mydemo'\n",
    "# files = [os.path.join(root, f'GC10-DET_GaussianBlur_{i}.csv') for i in [3, 5, 7, 9, 11, 13, 15, 17]]\n",
    "# for file in files:\n",
    "#     print(file)\n",
    "#     df = pd.read_csv(file)\n",
    "#     df = df.drop_duplicates()\n",
    "#     df.to_csv(file, index=False)"
   ]
  },
  {
   "cell_type": "code",
   "execution_count": 14,
   "metadata": {},
   "outputs": [],
   "source": [
    "proposed_dir = '/Data4/student_zhihan_data/source_code/IQA_A-STAR/source_code/Mydemo/Proposed_Score_Record'\n",
    "files = [os.path.join(proposed_dir, i) for i in os.listdir(proposed_dir)]\n",
    "for file in files:\n",
    "    df = pd.read_csv(file)\n",
    "    #add header\n",
    "    if len(df.columns) == 3:\n",
    "        df.columns = ['img_name','visibility','exposure']\n",
    "    elif len(df.columns) == 4:\n",
    "        df.columns = ['dataset','img_name','visibility','exposure']\n",
    "    if 'dataset' in df.columns:\n",
    "        df['img_name'] = df['dataset'] + '/images/' + df['img_name']\n",
    "        df = df.drop(columns=['dataset'])\n",
    "    df.to_csv(file, index=False, header=True)"
   ]
  },
  {
   "cell_type": "code",
   "execution_count": 20,
   "metadata": {},
   "outputs": [],
   "source": [
    "uncertainty_dir = '/Data4/student_zhihan_data/source_code/IQA_A-STAR/source_code/Mydemo/Uncertainty_Record'\n",
    "files = [os.path.join(uncertainty_dir, i) for i in os.listdir(uncertainty_dir)]\n",
    "for file in files:\n",
    "    df = pd.read_csv(file)\n",
    "    #add header\n",
    "    # if len(df.columns) == 3:\n",
    "    #     df.columns = ['img_name','visibility','exposure']\n",
    "    # elif len(df.columns) == 4:\n",
    "    #     df.columns = ['dataset','img_name','visibility','exposure']\n",
    "    if 'dataset' in df.columns:\n",
    "        df['img_name'] = df['dataset'] + '/images/' + df['img_name']\n",
    "        df = df.drop(columns=['dataset'])\n",
    "    if 'objectness_entropy' in df.columns:\n",
    "        df['weighted_entropy'] = df['weighted_variance_sum']\n",
    "        df['weighted_variance_sum'] = df['objectness_entropy']\n",
    "        df.drop(columns=['objectness_entropy'], inplace=True)\n",
    "    df.to_csv(file, index=False, header=True)"
   ]
  },
  {
   "cell_type": "code",
   "execution_count": null,
   "metadata": {},
   "outputs": [],
   "source": []
  }
 ],
 "metadata": {
  "kernelspec": {
   "display_name": "yolov8",
   "language": "python",
   "name": "python3"
  },
  "language_info": {
   "codemirror_mode": {
    "name": "ipython",
    "version": 3
   },
   "file_extension": ".py",
   "mimetype": "text/x-python",
   "name": "python",
   "nbconvert_exporter": "python",
   "pygments_lexer": "ipython3",
   "version": "3.9.18"
  }
 },
 "nbformat": 4,
 "nbformat_minor": 2
}
