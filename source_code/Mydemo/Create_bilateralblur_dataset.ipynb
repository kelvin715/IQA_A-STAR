{
 "cells": [
  {
   "cell_type": "code",
   "execution_count": 1,
   "metadata": {},
   "outputs": [],
   "source": [
    "import cv2\n",
    "import numpy as np\n",
    "\n",
    "\n",
    "\n",
    "\n",
    "\n",
    "import sys\n",
    "import os\n",
    "def create_dataset_with_adjust_brightness(brightness=0, base=\"NEU-DET\"):\n",
    "    # mkdir\n",
    "    name = f\"{base}_BilateralBlur_{brightness}\"\n",
    "    path = os.path.join('/Data4/student_zhihan_data/data', name)\n",
    "    if not os.path.exists(path):\n",
    "        os.mkdir(path)\n",
    "        # create train, val, test directory\n",
    "        os.mkdir(os.path.join(path, 'train'))\n",
    "        os.mkdir(os.path.join(path, 'valid'))\n",
    "        os.mkdir(os.path.join(path, 'test'))\n",
    "        # copy images\n",
    "        os.system(f\"cp -r /Data4/student_zhihan_data/data/{base}/train/* {path}/train\")\n",
    "        os.system(f\"cp -r /Data4/student_zhihan_data/data/{base}/valid/* {path}/valid\")\n",
    "        os.system(f\"cp -r /Data4/student_zhihan_data/data/{base}/test/* {path}/test\")\n",
    "        # copy configure file\n",
    "        os.system(f\"cp /Data4/student_zhihan_data/data/{base}/data.yaml {path}\")\n",
    "\n",
    "    # adjust brightness of images in train, val, test directory\n",
    "    for dir in ['train', 'valid', 'test']:\n",
    "        for img in os.listdir(os.path.join(path, dir, \"images\")):\n",
    "            img_path = os.path.join(path, dir, \"images\", img)\n",
    "            img = cv2.imread(img_path)\n",
    "            img = cv2.bilateralFilter(img, brightness, brightness, brightness) \n",
    "            cv2.imwrite(img_path, img)"
   ]
  },
  {
   "cell_type": "code",
   "execution_count": null,
   "metadata": {},
   "outputs": [],
   "source": []
  }
 ],
 "metadata": {
  "kernelspec": {
   "display_name": "yolov8",
   "language": "python",
   "name": "python3"
  },
  "language_info": {
   "codemirror_mode": {
    "name": "ipython",
    "version": 3
   },
   "file_extension": ".py",
   "mimetype": "text/x-python",
   "name": "python",
   "nbconvert_exporter": "python",
   "pygments_lexer": "ipython3",
   "version": "3.9.18"
  }
 },
 "nbformat": 4,
 "nbformat_minor": 2
}
