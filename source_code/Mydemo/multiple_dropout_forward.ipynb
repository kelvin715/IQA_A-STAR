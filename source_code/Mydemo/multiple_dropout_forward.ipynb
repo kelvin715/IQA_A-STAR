{
 "cells": [
  {
   "cell_type": "code",
   "execution_count": 11,
   "metadata": {},
   "outputs": [
    {
     "name": "stdout",
     "output_type": "stream",
     "text": [
      "\n",
      "image 1/1 /Data4/student_zhihan_data/data/GC10-DET/test/images/img_01_425005700_00555_jpg.rf.e1a20fb84e9af76157c2685f2d822bfe.jpg: 640x640 2 silk_spots, 7.3ms\n",
      "Speed: 1.1ms preprocess, 7.3ms inference, 1.4ms postprocess per image at shape (1, 3, 640, 640)\n"
     ]
    }
   ],
   "source": [
    "from ultralytics import YOLO\n",
    "\n",
    "# Load a pretrained YOLOv8n model\n",
    "model = YOLO('/Data4/student_zhihan_data/source_code/yolo/ultralytics/runs/detect/GC10-DET_brightness_0 detect by yolov8n with dropout(p=0.2)/weights/best.pt')\n",
    "\n",
    "# Define path to the image file\n",
    "source = '/Data4/student_zhihan_data/data/GC10-DET/test/images/img_01_425005700_00555_jpg.rf.e1a20fb84e9af76157c2685f2d822bfe.jpg'\n",
    "\n",
    "# Run inference on the source\n",
    "results = model(source, device=[0,1,2,3])  # list of Results objects"
   ]
  },
  {
   "cell_type": "code",
   "execution_count": 12,
   "metadata": {},
   "outputs": [
    {
     "data": {
      "text/plain": [
       "[ultralytics.engine.results.Results object with attributes:\n",
       " \n",
       " boxes: ultralytics.engine.results.Boxes object\n",
       " keypoints: None\n",
       " masks: None\n",
       " names: {0: 'crease', 1: 'crescent_gap', 2: 'inclusion', 3: 'oil_spot', 4: 'punching_hole', 5: 'rolled_pit', 6: 'silk_spot', 7: 'waist_folding', 8: 'water_spot', 9: 'welding_line'}\n",
       " orig_img: array([[[31, 31, 31],\n",
       "         [23, 23, 23],\n",
       "         [20, 20, 20],\n",
       "         ...,\n",
       "         [46, 46, 46],\n",
       "         [42, 42, 42],\n",
       "         [42, 42, 42]],\n",
       " \n",
       "        [[28, 28, 28],\n",
       "         [24, 24, 24],\n",
       "         [24, 24, 24],\n",
       "         ...,\n",
       "         [46, 46, 46],\n",
       "         [43, 43, 43],\n",
       "         [44, 44, 44]],\n",
       " \n",
       "        [[27, 27, 27],\n",
       "         [27, 27, 27],\n",
       "         [29, 29, 29],\n",
       "         ...,\n",
       "         [44, 44, 44],\n",
       "         [39, 39, 39],\n",
       "         [39, 39, 39]],\n",
       " \n",
       "        ...,\n",
       " \n",
       "        [[ 9,  9,  9],\n",
       "         [11, 11, 11],\n",
       "         [10, 10, 10],\n",
       "         ...,\n",
       "         [60, 60, 60],\n",
       "         [56, 56, 56],\n",
       "         [45, 45, 45]],\n",
       " \n",
       "        [[ 7,  7,  7],\n",
       "         [10, 10, 10],\n",
       "         [10, 10, 10],\n",
       "         ...,\n",
       "         [52, 52, 52],\n",
       "         [48, 48, 48],\n",
       "         [40, 40, 40]],\n",
       " \n",
       "        [[11, 11, 11],\n",
       "         [15, 15, 15],\n",
       "         [16, 16, 16],\n",
       "         ...,\n",
       "         [49, 49, 49],\n",
       "         [49, 49, 49],\n",
       "         [44, 44, 44]]], dtype=uint8)\n",
       " orig_shape: (640, 640)\n",
       " path: '/Data4/student_zhihan_data/data/GC10-DET/test/images/img_01_425005700_00555_jpg.rf.e1a20fb84e9af76157c2685f2d822bfe.jpg'\n",
       " probs: None\n",
       " save_dir: None\n",
       " speed: {'preprocess': 1.1005401611328125, 'inference': 7.273674011230469, 'postprocess': 1.4157295227050781}]"
      ]
     },
     "execution_count": 12,
     "metadata": {},
     "output_type": "execute_result"
    }
   ],
   "source": [
    "results"
   ]
  },
  {
   "cell_type": "code",
   "execution_count": 17,
   "metadata": {},
   "outputs": [],
   "source": [
    "# Show the results\n",
    "for r in results:\n",
    "    im_array = r.plot()  # plot a BGR numpy array of predictions\n",
    "    im = Image.fromarray(im_array[..., ::-1])  # RGB PIL image\n",
    "    # im.show()  # show image Cannot show without GUI\n",
    "    im.save('results.jpg')  # save image"
   ]
  },
  {
   "cell_type": "code",
   "execution_count": null,
   "metadata": {},
   "outputs": [],
   "source": []
  }
 ],
 "metadata": {
  "kernelspec": {
   "display_name": "yolov8",
   "language": "python",
   "name": "python3"
  },
  "language_info": {
   "codemirror_mode": {
    "name": "ipython",
    "version": 3
   },
   "file_extension": ".py",
   "mimetype": "text/x-python",
   "name": "python",
   "nbconvert_exporter": "python",
   "pygments_lexer": "ipython3",
   "version": "3.9.18"
  }
 },
 "nbformat": 4,
 "nbformat_minor": 2
}
